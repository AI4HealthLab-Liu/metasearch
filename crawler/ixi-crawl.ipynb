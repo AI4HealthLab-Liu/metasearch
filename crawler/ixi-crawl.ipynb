{
 "cells": [
  {
   "cell_type": "code",
   "execution_count": 20,
   "metadata": {
    "collapsed": true
   },
   "outputs": [],
   "source": [
    "import requests\n",
    "import pandas as pd"
   ]
  },
  {
   "cell_type": "code",
   "execution_count": 44,
   "metadata": {
    "collapsed": false
   },
   "outputs": [
    {
     "name": "stdout",
     "output_type": "stream",
     "text": [
      "https://api.osf.io/v2/nodes/5h7sv/files/osfstorage/5839b5d76c613b020d2942f4/?page=2\n",
      "https://api.osf.io/v2/nodes/5h7sv/files/osfstorage/5839b5d76c613b020d2942f4/?page=3\n",
      "https://api.osf.io/v2/nodes/5h7sv/files/osfstorage/5839b5d76c613b020d2942f4/?page=4\n",
      "https://api.osf.io/v2/nodes/5h7sv/files/osfstorage/5839b5d76c613b020d2942f4/?page=5\n",
      "https://api.osf.io/v2/nodes/5h7sv/files/osfstorage/5839b5d76c613b020d2942f4/?page=6\n",
      "https://api.osf.io/v2/nodes/5h7sv/files/osfstorage/5839b5d76c613b020d2942f4/?page=7\n",
      "https://api.osf.io/v2/nodes/5h7sv/files/osfstorage/5839b5d76c613b020d2942f4/?page=8\n",
      "https://api.osf.io/v2/nodes/5h7sv/files/osfstorage/5839b5d76c613b020d2942f4/?page=9\n",
      "https://api.osf.io/v2/nodes/5h7sv/files/osfstorage/5839b5d76c613b020d2942f4/?page=10\n",
      "https://api.osf.io/v2/nodes/5h7sv/files/osfstorage/5839b5d76c613b020d2942f4/?page=11\n",
      "https://api.osf.io/v2/nodes/5h7sv/files/osfstorage/5839b5d76c613b020d2942f4/?page=12\n",
      "https://api.osf.io/v2/nodes/5h7sv/files/osfstorage/5839b5d76c613b020d2942f4/?page=13\n",
      "https://api.osf.io/v2/nodes/5h7sv/files/osfstorage/5839b5d76c613b020d2942f4/?page=14\n",
      "https://api.osf.io/v2/nodes/5h7sv/files/osfstorage/5839b5d76c613b020d2942f4/?page=15\n",
      "https://api.osf.io/v2/nodes/5h7sv/files/osfstorage/5839b5d76c613b020d2942f4/?page=16\n",
      "https://api.osf.io/v2/nodes/5h7sv/files/osfstorage/5839b5d76c613b020d2942f4/?page=17\n",
      "https://api.osf.io/v2/nodes/5h7sv/files/osfstorage/5839b5d76c613b020d2942f4/?page=18\n",
      "https://api.osf.io/v2/nodes/5h7sv/files/osfstorage/5839b5d76c613b020d2942f4/?page=19\n",
      "https://api.osf.io/v2/nodes/5h7sv/files/osfstorage/5839b5d76c613b020d2942f4/?page=20\n",
      "https://api.osf.io/v2/nodes/5h7sv/files/osfstorage/5839b5d76c613b020d2942f4/?page=21\n",
      "https://api.osf.io/v2/nodes/5h7sv/files/osfstorage/5839b5d76c613b020d2942f4/?page=22\n",
      "https://api.osf.io/v2/nodes/5h7sv/files/osfstorage/5839b5d76c613b020d2942f4/?page=23\n",
      "https://api.osf.io/v2/nodes/5h7sv/files/osfstorage/5839b5d76c613b020d2942f4/?page=24\n",
      "https://api.osf.io/v2/nodes/5h7sv/files/osfstorage/5839b5d76c613b020d2942f4/?page=25\n",
      "https://api.osf.io/v2/nodes/5h7sv/files/osfstorage/5839b5d76c613b020d2942f4/?page=26\n",
      "https://api.osf.io/v2/nodes/5h7sv/files/osfstorage/5839b5d76c613b020d2942f4/?page=27\n",
      "https://api.osf.io/v2/nodes/5h7sv/files/osfstorage/5839b5d76c613b020d2942f4/?page=28\n",
      "https://api.osf.io/v2/nodes/5h7sv/files/osfstorage/5839b5d76c613b020d2942f4/?page=29\n",
      "https://api.osf.io/v2/nodes/5h7sv/files/osfstorage/5839b5d76c613b020d2942f4/?page=30\n",
      "https://api.osf.io/v2/nodes/5h7sv/files/osfstorage/5839b5d76c613b020d2942f4/?page=31\n",
      "https://api.osf.io/v2/nodes/5h7sv/files/osfstorage/5839b5d76c613b020d2942f4/?page=32\n",
      "https://api.osf.io/v2/nodes/5h7sv/files/osfstorage/5839b5d76c613b020d2942f4/?page=33\n",
      "https://api.osf.io/v2/nodes/5h7sv/files/osfstorage/5839b5d76c613b020d2942f4/?page=34\n",
      "https://api.osf.io/v2/nodes/5h7sv/files/osfstorage/5839b5d76c613b020d2942f4/?page=35\n",
      "https://api.osf.io/v2/nodes/5h7sv/files/osfstorage/5839b5d76c613b020d2942f4/?page=36\n",
      "https://api.osf.io/v2/nodes/5h7sv/files/osfstorage/5839b5d76c613b020d2942f4/?page=37\n",
      "https://api.osf.io/v2/nodes/5h7sv/files/osfstorage/5839b5d76c613b020d2942f4/?page=38\n",
      "https://api.osf.io/v2/nodes/5h7sv/files/osfstorage/5839b5d76c613b020d2942f4/?page=39\n",
      "https://api.osf.io/v2/nodes/5h7sv/files/osfstorage/5839b5d76c613b020d2942f4/?page=40\n",
      "https://api.osf.io/v2/nodes/5h7sv/files/osfstorage/5839b5d76c613b020d2942f4/?page=41\n",
      "https://api.osf.io/v2/nodes/5h7sv/files/osfstorage/5839b5d76c613b020d2942f4/?page=42\n",
      "https://api.osf.io/v2/nodes/5h7sv/files/osfstorage/5839b5d76c613b020d2942f4/?page=43\n",
      "https://api.osf.io/v2/nodes/5h7sv/files/osfstorage/5839b5d76c613b020d2942f4/?page=44\n",
      "https://api.osf.io/v2/nodes/5h7sv/files/osfstorage/5839b5d76c613b020d2942f4/?page=45\n",
      "https://api.osf.io/v2/nodes/5h7sv/files/osfstorage/5839b5d76c613b020d2942f4/?page=46\n",
      "https://api.osf.io/v2/nodes/5h7sv/files/osfstorage/5839b5d76c613b020d2942f4/?page=47\n",
      "https://api.osf.io/v2/nodes/5h7sv/files/osfstorage/5839b5d76c613b020d2942f4/?page=48\n",
      "https://api.osf.io/v2/nodes/5h7sv/files/osfstorage/5839b5d76c613b020d2942f4/?page=49\n",
      "https://api.osf.io/v2/nodes/5h7sv/files/osfstorage/5839b5d76c613b020d2942f4/?page=50\n",
      "https://api.osf.io/v2/nodes/5h7sv/files/osfstorage/5839b5d76c613b020d2942f4/?page=51\n",
      "https://api.osf.io/v2/nodes/5h7sv/files/osfstorage/5839b5d76c613b020d2942f4/?page=52\n",
      "https://api.osf.io/v2/nodes/5h7sv/files/osfstorage/5839b5d76c613b020d2942f4/?page=53\n",
      "https://api.osf.io/v2/nodes/5h7sv/files/osfstorage/5839b5d76c613b020d2942f4/?page=54\n",
      "https://api.osf.io/v2/nodes/5h7sv/files/osfstorage/5839b5d76c613b020d2942f4/?page=55\n",
      "https://api.osf.io/v2/nodes/5h7sv/files/osfstorage/5839b5d76c613b020d2942f4/?page=56\n",
      "https://api.osf.io/v2/nodes/5h7sv/files/osfstorage/5839b5d76c613b020d2942f4/?page=57\n",
      "https://api.osf.io/v2/nodes/5h7sv/files/osfstorage/5839b5d76c613b020d2942f4/?page=58\n",
      "https://api.osf.io/v2/nodes/5h7sv/files/osfstorage/5839b5d76c613b020d2942f4/?page=59\n",
      "None\n"
     ]
    }
   ],
   "source": [
    "csv_data = []\n",
    "next_page_url = 'https://api.osf.io/v2/nodes/5h7sv/files/osfstorage/5839b5d76c613b020d2942f4/'\n",
    "while (next_page_url):\n",
    "    req = requests.get(next_page_url)\n",
    "    info = req.json()\n",
    "    for val in info['data']:\n",
    "        csv_data.append(dict(MRI=val['links']['download'], \n",
    "                             name=val['attributes']['name'].split('-')[0]))\n",
    "    next_page_url = info['links']['next']\n",
    "    print(next_page_url)"
   ]
  },
  {
   "cell_type": "code",
   "execution_count": 45,
   "metadata": {
    "collapsed": false
   },
   "outputs": [
    {
     "data": {
      "text/html": [
       "<div>\n",
       "<table border=\"1\" class=\"dataframe\">\n",
       "  <thead>\n",
       "    <tr style=\"text-align: right;\">\n",
       "      <th></th>\n",
       "      <th>MRI</th>\n",
       "      <th>name</th>\n",
       "    </tr>\n",
       "  </thead>\n",
       "  <tbody>\n",
       "    <tr>\n",
       "      <th>0</th>\n",
       "      <td>https://files.osf.io/v1/resources/5h7sv/provid...</td>\n",
       "      <td>IXI002</td>\n",
       "    </tr>\n",
       "    <tr>\n",
       "      <th>1</th>\n",
       "      <td>https://files.osf.io/v1/resources/5h7sv/provid...</td>\n",
       "      <td>IXI012</td>\n",
       "    </tr>\n",
       "    <tr>\n",
       "      <th>2</th>\n",
       "      <td>https://files.osf.io/v1/resources/5h7sv/provid...</td>\n",
       "      <td>IXI013</td>\n",
       "    </tr>\n",
       "    <tr>\n",
       "      <th>3</th>\n",
       "      <td>https://files.osf.io/v1/resources/5h7sv/provid...</td>\n",
       "      <td>IXI014</td>\n",
       "    </tr>\n",
       "    <tr>\n",
       "      <th>4</th>\n",
       "      <td>https://files.osf.io/v1/resources/5h7sv/provid...</td>\n",
       "      <td>IXI015</td>\n",
       "    </tr>\n",
       "  </tbody>\n",
       "</table>\n",
       "</div>"
      ],
      "text/plain": [
       "                                                 MRI    name\n",
       "0  https://files.osf.io/v1/resources/5h7sv/provid...  IXI002\n",
       "1  https://files.osf.io/v1/resources/5h7sv/provid...  IXI012\n",
       "2  https://files.osf.io/v1/resources/5h7sv/provid...  IXI013\n",
       "3  https://files.osf.io/v1/resources/5h7sv/provid...  IXI014\n",
       "4  https://files.osf.io/v1/resources/5h7sv/provid...  IXI015"
      ]
     },
     "execution_count": 45,
     "metadata": {},
     "output_type": "execute_result"
    }
   ],
   "source": [
    "df = pd.DataFrame(csv_data)\n",
    "df.head()"
   ]
  },
  {
   "cell_type": "code",
   "execution_count": 46,
   "metadata": {
    "collapsed": true
   },
   "outputs": [],
   "source": [
    "df.to_csv('IXI.csv', index=False, header=False)"
   ]
  },
  {
   "cell_type": "code",
   "execution_count": 47,
   "metadata": {
    "collapsed": false
   },
   "outputs": [
    {
     "data": {
      "text/plain": [
       "1"
      ]
     },
     "execution_count": 47,
     "metadata": {},
     "output_type": "execute_result"
    }
   ],
   "source": [
    "len(info['data'])"
   ]
  },
  {
   "cell_type": "code",
   "execution_count": null,
   "metadata": {
    "collapsed": true
   },
   "outputs": [],
   "source": []
  }
 ],
 "metadata": {
  "kernelspec": {
   "display_name": "Python 3",
   "language": "python",
   "name": "python3"
  },
  "language_info": {
   "codemirror_mode": {
    "name": "ipython",
    "version": 3
   },
   "file_extension": ".py",
   "mimetype": "text/x-python",
   "name": "python",
   "nbconvert_exporter": "python",
   "pygments_lexer": "ipython3",
   "version": "3.5.2"
  }
 },
 "nbformat": 4,
 "nbformat_minor": 1
}
