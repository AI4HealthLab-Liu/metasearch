{
 "cells": [
  {
   "cell_type": "markdown",
   "metadata": {},
   "source": [
    "# Transform Phenotypic Data into a Common Format\n",
    "This script accesses the extracted data in their original format and applys a mapping to harmonize the data into a common tabular format."
   ]
  },
  {
   "cell_type": "code",
   "execution_count": 9,
   "metadata": {
    "collapsed": false
   },
   "outputs": [
    {
     "name": "stdout",
     "output_type": "stream",
     "text": [
      "/Users/nicholsn/Repos/metasearch/crawler/transform\n"
     ]
    }
   ],
   "source": [
    "import os\n",
    "import json\n",
    "\n",
    "import numpy as np\n",
    "import pandas as pd\n",
    "\n",
    "print(os.path.abspath(os.path.curdir))"
   ]
  },
  {
   "cell_type": "code",
   "execution_count": 10,
   "metadata": {
    "collapsed": false
   },
   "outputs": [],
   "source": [
    "# Path to projects with extracted files.\n",
    "extract_path = os.path.abspath('../extract')\n",
    "# Path to where the tranformed projects will go.\n",
    "xfm_path = os.path.abspath(os.path.curdir)\n",
    "# Project dirs.\n",
    "project_names = [i for i in os.listdir(extract_path) if '.' not in i]\n",
    "extract_dirs = [os.path.join(extract_path, i) for i in project_names]\n",
    "xfm_dirs = [os.path.join(xfm_path, i) for i in project_names]"
   ]
  },
  {
   "cell_type": "code",
   "execution_count": 20,
   "metadata": {
    "collapsed": false
   },
   "outputs": [],
   "source": [
    "def apply_mapping(mapping, df_list):\n",
    "    \"\"\"\n",
    "    Reads a dictionary mapping and list of dataframe, then merges the\n",
    "    dataframes and convers the column name and values into a common\n",
    "    format. Note: the dataframes should have a common structure.\n",
    "    \n",
    "    Example Mapping Structure\n",
    "    =========================\n",
    "    {  \n",
    "        \"DX_GROUP\":\n",
    "      {\n",
    "        \"element\": \"diagnosis\",\n",
    "        \"type\": \"category\",\n",
    "        \"1\": \"autism\",\n",
    "        \"2\": \"control\"\n",
    "      }\n",
    "    }\n",
    "    \"\"\"\n",
    "    results = list()\n",
    "    csv = pd.concat(df_list)\n",
    "    csv.reset_index(drop=True, inplace=True)\n",
    "    for col, elem in mapping.iteritems():\n",
    "        # Use get in case the col is missing/static.\n",
    "        series = csv.get(col)\n",
    "        # Categories are mapped to common values.\n",
    "        if elem.get('type') == 'category':\n",
    "            result = series.apply(lambda x: elem.get(str(x)))\n",
    "        # Values parsed as numbers are checked for any mappings (e.g., -999 == NaN).\n",
    "        elif elem.get('type') == 'number':\n",
    "            result = series.apply(lambda x: np.NaN if str(x) in elem.keys() else x)\n",
    "        # Used to create a column of all the same value.\n",
    "        elif elem.get('type') == 'static':\n",
    "            val = [elem.get('value')] * csv.shape[0]\n",
    "            result = pd.Series(val, index=csv.index)\n",
    "        else:\n",
    "            try:\n",
    "                # Handle IDs being read as float.\n",
    "                result = series.apply(lambda x: str(int(x)) if pd.notnull(x) else x)\n",
    "            except ValueError as e:\n",
    "                result = series\n",
    "        # Concat all csv in a extract dir into one dataframe.        \n",
    "        df = pd.DataFrame()\n",
    "        df[elem.get('element')] = result\n",
    "        results.append(df)\n",
    "        concat = pd.concat(results, axis=1)\n",
    "    # Merge any columns with duplicate names to fil in NaN from concat step.\n",
    "    return concat.groupby(level=0, axis=1).first()"
   ]
  },
  {
   "cell_type": "code",
   "execution_count": 21,
   "metadata": {
    "collapsed": false
   },
   "outputs": [],
   "source": [
    "# Read a mapping.json file from each sub directory to process.\n",
    "for project_name in project_names:\n",
    "    df_list = list()\n",
    "    mapping = dict()\n",
    "    extract_dir = os.path.join(extract_path, project_name)\n",
    "    xfm_dir = os.path.join(xfm_path, project_name)\n",
    "    # All files must use the same data dictionary in a given directory.\n",
    "    extract_files = [os.path.join(extract_dir, i) for i in os.listdir(extract_dir)]\n",
    "    mapping_file = os.path.join(xfm_dir, 'mapping.json')\n",
    "    if os.path.exists(mapping_file):\n",
    "        with open(mapping_file, 'rb') as fi:\n",
    "            mapping.update(json.load(fi))\n",
    "        ext_type = dict(csv=',', tsv='\\t')\n",
    "        for extract_file in extract_files:\n",
    "            # Process each file.\n",
    "            ext = extract_file.split('.')[-1]\n",
    "            sep_type = ext_type.get(ext)\n",
    "            df = pd.read_csv(extract_file, sep=sep_type)\n",
    "            df_list.append(df)\n",
    "        xfm = apply_mapping(mapping, df_list)\n",
    "        pheno_file = ''.join([project_name, '_', 'phenotype.csv'])\n",
    "        pheno_path = os.path.join(xfm_dir, pheno_file)\n",
    "        # Add a column for the specific project.\n",
    "        xfm['project'] = project_name\n",
    "        # If csv file didn't have a site column then use the project name.\n",
    "        if 'site_id' not in xfm.columns:\n",
    "            xfm['site_id'] = pd.np.NaN\n",
    "        xfm.to_csv(pheno_path, index=False)"
   ]
  },
  {
   "cell_type": "code",
   "execution_count": null,
   "metadata": {
    "collapsed": true
   },
   "outputs": [],
   "source": []
  }
 ],
 "metadata": {
  "kernelspec": {
   "display_name": "Python 2",
   "language": "python",
   "name": "python2"
  },
  "language_info": {
   "codemirror_mode": {
    "name": "ipython",
    "version": 2
   },
   "file_extension": ".py",
   "mimetype": "text/x-python",
   "name": "python",
   "nbconvert_exporter": "python",
   "pygments_lexer": "ipython2",
   "version": "2.7.12"
  }
 },
 "nbformat": 4,
 "nbformat_minor": 0
}
