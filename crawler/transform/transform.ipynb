{
 "cells": [
  {
   "cell_type": "code",
   "execution_count": 61,
   "metadata": {
    "collapsed": false
   },
   "outputs": [
    {
     "name": "stdout",
     "output_type": "stream",
     "text": [
      "/Users/nicholsn/Repos/metasearch/crawler/transform\n"
     ]
    }
   ],
   "source": [
    "import os\n",
    "import json\n",
    "\n",
    "import numpy as np\n",
    "import pandas as pd\n",
    "\n",
    "print(os.path.abspath(os.path.curdir))"
   ]
  },
  {
   "cell_type": "code",
   "execution_count": 42,
   "metadata": {
    "collapsed": false
   },
   "outputs": [],
   "source": [
    "# Directories with extracted files.\n",
    "extract_path = os.path.abspath('../extract')\n",
    "all_dirs = os.walk(extract_path).next()[1]\n",
    "dirs = [d for d in all_dirs if not d[0] == '.']\n",
    "for i in dirs:\n",
    "    if not os.path.exists(i):\n",
    "        os.mkdir(i)        "
   ]
  },
  {
   "cell_type": "code",
   "execution_count": 79,
   "metadata": {
    "collapsed": true
   },
   "outputs": [],
   "source": [
    "def apply_mapping(mapping, csv_path):\n",
    "    df = pd.DataFrame()\n",
    "    csv = pd.read_csv(csv_path)\n",
    "    for col, elem in mapping.iteritems():\n",
    "        series = csv[col]\n",
    "        if elem.get('type') == 'category':\n",
    "            result = series.apply(lambda x: elem.get(str(x)))\n",
    "        elif elem.get('type') == 'number':\n",
    "            lambda x: True if x % 2 == 0 else False\n",
    "            result = series.apply(lambda x: np.NaN if str(x) in elem.keys() else x)\n",
    "        else:\n",
    "            result = series\n",
    "        df[elem.get('element')] = result\n",
    "    return df"
   ]
  },
  {
   "cell_type": "code",
   "execution_count": 81,
   "metadata": {
    "collapsed": false
   },
   "outputs": [],
   "source": [
    "# Read a mapping.json file from each sub directory to process.\n",
    "for i in dirs:\n",
    "    mapping = dict()\n",
    "    mapping_file = os.path.join('.', i, 'mapping.json')\n",
    "    if os.path.exists(mapping_file):\n",
    "        with open(mapping_file, 'rb') as fi:\n",
    "            mapping.update(json.load(fi))\n",
    "        for key in mapping.iterkeys():\n",
    "            csv_path = os.path.join(extract_path, i, key)\n",
    "            csv_mapping = mapping.get(key)\n",
    "            xfm = apply_mapping(csv_mapping, csv_path)\n",
    "            pheno = os.path.join('.', i, i + '_' + 'phenotype.csv')\n",
    "            xfm.to_csv(pheno, index=False)"
   ]
  }
 ],
 "metadata": {
  "kernelspec": {
   "display_name": "Python 2",
   "language": "python",
   "name": "python2"
  },
  "language_info": {
   "codemirror_mode": {
    "name": "ipython",
    "version": 2
   },
   "file_extension": ".py",
   "mimetype": "text/x-python",
   "name": "python",
   "nbconvert_exporter": "python",
   "pygments_lexer": "ipython2",
   "version": "2.7.12"
  }
 },
 "nbformat": 4,
 "nbformat_minor": 0
}
