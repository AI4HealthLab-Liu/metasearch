{
 "cells": [
  {
   "cell_type": "markdown",
   "metadata": {},
   "source": [
    "# Extract  Metadata From AWS S3\n",
    "This script accesses phenotypic data from a number of projects organized under the International Neuroimaging Data-sharing Initiative that are stored on AWS S3."
   ]
  },
  {
   "cell_type": "code",
   "execution_count": 12,
   "metadata": {
    "collapsed": false
   },
   "outputs": [],
   "source": [
    "import os\n",
    "import boto\n",
    "import gzip\n",
    "import pandas as pd\n",
    "conn = boto.connect_s3(anon=True)\n",
    "fcp = conn.get_bucket('fcp-indi')\n",
    "\n",
    "bucket_url_prefix = 'https://s3.amazonaws.com/fcp-indi/'"
   ]
  },
  {
   "cell_type": "code",
   "execution_count": 19,
   "metadata": {
    "collapsed": false
   },
   "outputs": [
    {
     "name": "stdout",
     "output_type": "stream",
     "text": [
      "1 loop, best of 3: 1h 27min 6s per loop\n"
     ]
    }
   ],
   "source": [
    "# Get the keys for all files in project directory from S3.\n",
    "# Takes about 1.5 hours to run...\n",
    "with gzip.open('fcp-indi-keys.csv.gz', 'wb') as fi:\n",
    "    for i in fcp.list():\n",
    "        if 'Projects' in i.name:\n",
    "            fi.write(i.name + '\\n')"
   ]
  },
  {
   "cell_type": "code",
   "execution_count": 24,
   "metadata": {
    "collapsed": false
   },
   "outputs": [
    {
     "data": {
      "text/html": [
       "<div>\n",
       "<table border=\"1\" class=\"dataframe\">\n",
       "  <thead>\n",
       "    <tr style=\"text-align: right;\">\n",
       "      <th></th>\n",
       "      <th>key</th>\n",
       "    </tr>\n",
       "  </thead>\n",
       "  <tbody>\n",
       "    <tr>\n",
       "      <th>0</th>\n",
       "      <td>data/Projects/ABIDE_BIDS/CMU_a/sub-0050642/ana...</td>\n",
       "    </tr>\n",
       "    <tr>\n",
       "      <th>1</th>\n",
       "      <td>data/Projects/ABIDE_BIDS/CMU_a/sub-0050642/fun...</td>\n",
       "    </tr>\n",
       "    <tr>\n",
       "      <th>2</th>\n",
       "      <td>data/Projects/ABIDE_BIDS/CMU_a/sub-0050646/ana...</td>\n",
       "    </tr>\n",
       "    <tr>\n",
       "      <th>3</th>\n",
       "      <td>data/Projects/ABIDE_BIDS/CMU_a/sub-0050646/fun...</td>\n",
       "    </tr>\n",
       "    <tr>\n",
       "      <th>4</th>\n",
       "      <td>data/Projects/ABIDE_BIDS/CMU_a/sub-0050647/ana...</td>\n",
       "    </tr>\n",
       "  </tbody>\n",
       "</table>\n",
       "</div>"
      ],
      "text/plain": [
       "                                                 key\n",
       "0  data/Projects/ABIDE_BIDS/CMU_a/sub-0050642/ana...\n",
       "1  data/Projects/ABIDE_BIDS/CMU_a/sub-0050642/fun...\n",
       "2  data/Projects/ABIDE_BIDS/CMU_a/sub-0050646/ana...\n",
       "3  data/Projects/ABIDE_BIDS/CMU_a/sub-0050646/fun...\n",
       "4  data/Projects/ABIDE_BIDS/CMU_a/sub-0050647/ana..."
      ]
     },
     "execution_count": 24,
     "metadata": {},
     "output_type": "execute_result"
    }
   ],
   "source": [
    "# Read in all the keys to process.\n",
    "df = pd.read_csv('fcp-indi-keys.csv.gz', names=['key'], header=None)\n",
    "df.head()"
   ]
  },
  {
   "cell_type": "code",
   "execution_count": 36,
   "metadata": {
    "collapsed": false
   },
   "outputs": [],
   "source": [
    "# Curated list of csv files containing phenotypic data on AWS.\n",
    "# Only takes a few seconds compared to full listing above w/mri and other data.\n",
    "projects = {'ABIDE_Initiative': ['data/Projects/ABIDE_Initiative/Phenotypic_V1_0b_preprocessed1.csv'],\n",
    "            'ACPI': ['data/Projects/ACPI/PhenotypicData/acpi_aggregated_phenotypic_data.csv'],\n",
    "            'ADHD200': ['data/Projects/ADHD200/RawData/Brown_TestRelease_phenotypic.csv',\n",
    "                        'data/Projects/ADHD200/RawData/KKI_phenotypic.csv',\n",
    "                        'data/Projects/ADHD200/RawData/NYU_phenotypic.csv',\n",
    "                        'data/Projects/ADHD200/RawData/OHSU_TestRelease_phenotypic.csv',\n",
    "                        'data/Projects/ADHD200/RawData/OHSU_phenotypic.csv',\n",
    "                        'data/Projects/ADHD200/RawData/Peking_1_TestRelease_phenotypic.csv',\n",
    "                        'data/Projects/ADHD200/RawData/Peking_1_phenotypic.csv',\n",
    "                        'data/Projects/ADHD200/RawData/Pittsburgh_phenotypic.csv'],\n",
    "            'CC_ME': [None], # no phenotypic data\n",
    "            'CORR': ['data/Projects/CORR/RawData/CoRR_AggregatedPhenotypicData.csv'],\n",
    "            'CPAC_Regression_Test': [None],\n",
    "            'HBNSS': ['data/Projects/HBNSS/PhenotypicData/cmi_hbnssi_pheno_data.csv'],\n",
    "            'INDI': ['data/Projects/INDI/HypnosisBarrios/RawData/participants.tsv',\n",
    "                     'data/Projects/INDI/SLIM/swu_slim_phenodata_time1.tsv',\n",
    "                     'data/Projects/INDI/SLIM/swu_slim_phenodata_time2.tsv',\n",
    "                     'data/Projects/INDI/SLIM/swu_slim_phenodata_time3.tsv'], # phenotypic data is tsv\n",
    "            'RocklandSample': ['data/Projects/RocklandSample/PhenotypicData/nki-rs_lite_r4_phenotypic_v1.csv',\n",
    "                               'data/Projects/RocklandSample/PhenotypicData/nki-rs_lite_r6_phenotypic_v1.csv',\n",
    "                               'data/Projects/RocklandSample/PhenotypicData/nki-rs_lite_r7_phenotypic_v1.csv',\n",
    "                               'data/Projects/RocklandSample/PhenotypicData/nki-rs_lite_r8_phenotypic_v1.csv']}"
   ]
  },
  {
   "cell_type": "code",
   "execution_count": 3,
   "metadata": {
    "collapsed": false
   },
   "outputs": [
    {
     "name": "stdout",
     "output_type": "stream",
     "text": [
      "Files available at: /Users/nicholsn/Repos/metasearch/crawler/extract/RocklandSample/nki-rs_lite_r4_phenotypic_v1.csv\n",
      "Files available at: /Users/nicholsn/Repos/metasearch/crawler/extract/RocklandSample/nki-rs_lite_r6_phenotypic_v1.csv\n",
      "Files available at: /Users/nicholsn/Repos/metasearch/crawler/extract/RocklandSample/nki-rs_lite_r7_phenotypic_v1.csv\n",
      "Files available at: /Users/nicholsn/Repos/metasearch/crawler/extract/RocklandSample/nki-rs_lite_r8_phenotypic_v1.csv\n",
      "Files available at: /Users/nicholsn/Repos/metasearch/crawler/extract/ADHD200/Brown_TestRelease_phenotypic.csv\n",
      "Files available at: /Users/nicholsn/Repos/metasearch/crawler/extract/ADHD200/KKI_phenotypic.csv\n",
      "Files available at: /Users/nicholsn/Repos/metasearch/crawler/extract/ADHD200/NYU_phenotypic.csv\n",
      "Files available at: /Users/nicholsn/Repos/metasearch/crawler/extract/ADHD200/OHSU_TestRelease_phenotypic.csv\n",
      "Files available at: /Users/nicholsn/Repos/metasearch/crawler/extract/ADHD200/OHSU_phenotypic.csv\n",
      "Files available at: /Users/nicholsn/Repos/metasearch/crawler/extract/ADHD200/Peking_1_TestRelease_phenotypic.csv\n",
      "Files available at: /Users/nicholsn/Repos/metasearch/crawler/extract/ADHD200/Peking_1_phenotypic.csv\n",
      "Files available at: /Users/nicholsn/Repos/metasearch/crawler/extract/ADHD200/Pittsburgh_phenotypic.csv\n",
      "Files available at: /Users/nicholsn/Repos/metasearch/crawler/extract/CORR/CoRR_AggregatedPhenotypicData.csv\n",
      "Files available at: /Users/nicholsn/Repos/metasearch/crawler/extract/INDI/participants.tsv\n",
      "Files available at: /Users/nicholsn/Repos/metasearch/crawler/extract/INDI/swu_slim_phenodata_time1.tsv\n",
      "Files available at: /Users/nicholsn/Repos/metasearch/crawler/extract/INDI/swu_slim_phenodata_time2.tsv\n",
      "Files available at: /Users/nicholsn/Repos/metasearch/crawler/extract/INDI/swu_slim_phenodata_time3.tsv\n",
      "Files available at: /Users/nicholsn/Repos/metasearch/crawler/extract/ABIDE_Initiative/Phenotypic_V1_0b_preprocessed1.csv\n",
      "Files available at: /Users/nicholsn/Repos/metasearch/crawler/extract/ACPI/acpi_aggregated_phenotypic_data.csv\n",
      "Files available at: /Users/nicholsn/Repos/metasearch/crawler/extract/HBNSS/cmi_hbnssi_pheno_data.csv\n"
     ]
    }
   ],
   "source": [
    "# Extract all the csv files.\n",
    "for k, v in projects.iteritems():\n",
    "    # Get all the key objects\n",
    "    keys = [fcp.get_key(i) for i in v]\n",
    "    # Create project directries\n",
    "    if not os.path.exists(k):\n",
    "        os.mkdir(k.lower())\n",
    "    # Download all the keys as csv\n",
    "    for key in keys:\n",
    "        if key:\n",
    "            fname = key.name.split('/')[-1]\n",
    "            fpath = os.path.join(os.path.abspath(k), fname)\n",
    "            key.get_contents_to_filename(fpath)"
   ]
  }
 ],
 "metadata": {
  "kernelspec": {
   "display_name": "Python 2",
   "language": "python",
   "name": "python2"
  },
  "language_info": {
   "codemirror_mode": {
    "name": "ipython",
    "version": 2
   },
   "file_extension": ".py",
   "mimetype": "text/x-python",
   "name": "python",
   "nbconvert_exporter": "python",
   "pygments_lexer": "ipython2",
   "version": "2.7.12"
  }
 },
 "nbformat": 4,
 "nbformat_minor": 0
}
