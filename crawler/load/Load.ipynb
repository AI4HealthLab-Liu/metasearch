{
 "cells": [
  {
   "cell_type": "code",
   "execution_count": 29,
   "metadata": {
    "collapsed": false
   },
   "outputs": [
    {
     "data": {
      "text/plain": [
       "'/Users/nicholsn/Repos/metasearch/crawler/load'"
      ]
     },
     "execution_count": 29,
     "metadata": {},
     "output_type": "execute_result"
    }
   ],
   "source": [
    "import os\n",
    "\n",
    "import pandas as pd\n",
    "\n",
    "os.path.abspath(os.curdir)"
   ]
  },
  {
   "cell_type": "code",
   "execution_count": 30,
   "metadata": {
    "collapsed": false
   },
   "outputs": [],
   "source": [
    "# Load all the transformed files into a dataframes to be merged.\n",
    "load_path = os.path.abspath(os.curdir)\n",
    "xfm_path = os.path.abspath('../transform')\n",
    "project_names = [project for project in os.listdir(xfm_path) if '.' not in project]\n",
    "csv_files = list()\n",
    "for project_name in project_names:\n",
    "    xfm_dir = os.path.join(xfm_path, project_name)\n",
    "    files = os.listdir(xfm_dir)\n",
    "    [csv_files.append(os.path.join(xfm_path, project_name, csv)) for csv in files if '.csv' in csv]"
   ]
  },
  {
   "cell_type": "code",
   "execution_count": 31,
   "metadata": {
    "collapsed": true
   },
   "outputs": [],
   "source": [
    "# Define the order of the columns we want in our final table.\n",
    "columns = ['project',\n",
    "           'site_id',\n",
    "           'participant_id',\n",
    "           'diagnosis',\n",
    "           'sex', \n",
    "           'age',\n",
    "           'handedness',\n",
    "           'full iq',\n",
    "           'performance iq',\n",
    "           'verbal iq']"
   ]
  },
  {
   "cell_type": "code",
   "execution_count": 32,
   "metadata": {
    "collapsed": true
   },
   "outputs": [],
   "source": [
    "df_list = [pd.read_csv(i) for i in csv_files]\n",
    "df = pd.concat(df_list)\n",
    "df.to_csv(os.path.join(load_path, 'phenotype.csv'), columns=columns, index=False)"
   ]
  },
  {
   "cell_type": "code",
   "execution_count": null,
   "metadata": {
    "collapsed": true
   },
   "outputs": [],
   "source": []
  }
 ],
 "metadata": {
  "kernelspec": {
   "display_name": "Python 2",
   "language": "python",
   "name": "python2"
  },
  "language_info": {
   "codemirror_mode": {
    "name": "ipython",
    "version": 2
   },
   "file_extension": ".py",
   "mimetype": "text/x-python",
   "name": "python",
   "nbconvert_exporter": "python",
   "pygments_lexer": "ipython2",
   "version": "2.7.12"
  }
 },
 "nbformat": 4,
 "nbformat_minor": 1
}
