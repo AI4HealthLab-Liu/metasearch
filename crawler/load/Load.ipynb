{
 "cells": [
  {
   "cell_type": "code",
   "execution_count": 110,
   "metadata": {
    "collapsed": false
   },
   "outputs": [
    {
     "data": {
      "text/plain": [
       "'/Users/nicholsn/Repos/metasearch/crawler/load'"
      ]
     },
     "execution_count": 110,
     "metadata": {},
     "output_type": "execute_result"
    }
   ],
   "source": [
    "import os\n",
    "\n",
    "import pandas as pd\n",
    "\n",
    "os.path.abspath(os.curdir)"
   ]
  },
  {
   "cell_type": "code",
   "execution_count": 111,
   "metadata": {
    "collapsed": false
   },
   "outputs": [],
   "source": [
    "# Load all the transformed files into a dataframes to be merged.\n",
    "load_path = os.path.abspath(os.curdir)\n",
    "xfm_path = os.path.abspath('../transform')\n",
    "project_names = [project for project in os.listdir(xfm_path) if '.' not in project]\n",
    "csv_files = list()\n",
    "for project_name in project_names:\n",
    "    xfm_dir = os.path.join(xfm_path, project_name)\n",
    "    files = os.listdir(xfm_dir)\n",
    "    [csv_files.append(os.path.join(xfm_path, project_name, csv)) for csv in files if '.csv' in csv]"
   ]
  },
  {
   "cell_type": "code",
   "execution_count": 112,
   "metadata": {
    "collapsed": true
   },
   "outputs": [],
   "source": [
    "# Define the order of the columns we want in our final table.\n",
    "columns = ['project',\n",
    "           'site_id',\n",
    "           'participant_id',\n",
    "           'diagnosis',\n",
    "           'sex', \n",
    "           'age',\n",
    "           'handedness',\n",
    "           'full iq',\n",
    "           'performance iq',\n",
    "           'verbal iq']"
   ]
  },
  {
   "cell_type": "code",
   "execution_count": 113,
   "metadata": {
    "collapsed": false
   },
   "outputs": [
    {
     "data": {
      "text/html": [
       "<div>\n",
       "<table border=\"1\" class=\"dataframe\">\n",
       "  <thead>\n",
       "    <tr style=\"text-align: right;\">\n",
       "      <th></th>\n",
       "      <th>age</th>\n",
       "      <th>diagnosis</th>\n",
       "      <th>dsm_iv_tr</th>\n",
       "      <th>full iq</th>\n",
       "      <th>handedness</th>\n",
       "      <th>participant_id</th>\n",
       "      <th>performance iq</th>\n",
       "      <th>project</th>\n",
       "      <th>sex</th>\n",
       "      <th>site_id</th>\n",
       "      <th>verbal iq</th>\n",
       "    </tr>\n",
       "  </thead>\n",
       "  <tbody>\n",
       "    <tr>\n",
       "      <th>0</th>\n",
       "      <td>16.77</td>\n",
       "      <td>autism</td>\n",
       "      <td>autism</td>\n",
       "      <td>103.0</td>\n",
       "      <td>ambidextrous</td>\n",
       "      <td>50002</td>\n",
       "      <td>89.0</td>\n",
       "      <td>abide_initiative</td>\n",
       "      <td>Male</td>\n",
       "      <td>PITT</td>\n",
       "      <td>116.0</td>\n",
       "    </tr>\n",
       "    <tr>\n",
       "      <th>1</th>\n",
       "      <td>24.45</td>\n",
       "      <td>autism</td>\n",
       "      <td>autism</td>\n",
       "      <td>124.0</td>\n",
       "      <td>right handed</td>\n",
       "      <td>50003</td>\n",
       "      <td>115.0</td>\n",
       "      <td>abide_initiative</td>\n",
       "      <td>Male</td>\n",
       "      <td>PITT</td>\n",
       "      <td>128.0</td>\n",
       "    </tr>\n",
       "    <tr>\n",
       "      <th>2</th>\n",
       "      <td>19.09</td>\n",
       "      <td>autism</td>\n",
       "      <td>autism</td>\n",
       "      <td>113.0</td>\n",
       "      <td>right handed</td>\n",
       "      <td>50004</td>\n",
       "      <td>117.0</td>\n",
       "      <td>abide_initiative</td>\n",
       "      <td>Male</td>\n",
       "      <td>PITT</td>\n",
       "      <td>108.0</td>\n",
       "    </tr>\n",
       "    <tr>\n",
       "      <th>3</th>\n",
       "      <td>13.73</td>\n",
       "      <td>autism</td>\n",
       "      <td>autism</td>\n",
       "      <td>119.0</td>\n",
       "      <td>right handed</td>\n",
       "      <td>50005</td>\n",
       "      <td>118.0</td>\n",
       "      <td>abide_initiative</td>\n",
       "      <td>Female</td>\n",
       "      <td>PITT</td>\n",
       "      <td>117.0</td>\n",
       "    </tr>\n",
       "    <tr>\n",
       "      <th>4</th>\n",
       "      <td>13.37</td>\n",
       "      <td>autism</td>\n",
       "      <td>autism</td>\n",
       "      <td>109.0</td>\n",
       "      <td>left handed</td>\n",
       "      <td>50006</td>\n",
       "      <td>119.0</td>\n",
       "      <td>abide_initiative</td>\n",
       "      <td>Male</td>\n",
       "      <td>PITT</td>\n",
       "      <td>99.0</td>\n",
       "    </tr>\n",
       "  </tbody>\n",
       "</table>\n",
       "</div>"
      ],
      "text/plain": [
       "     age diagnosis dsm_iv_tr  full iq    handedness participant_id  \\\n",
       "0  16.77    autism    autism    103.0  ambidextrous          50002   \n",
       "1  24.45    autism    autism    124.0  right handed          50003   \n",
       "2  19.09    autism    autism    113.0  right handed          50004   \n",
       "3  13.73    autism    autism    119.0  right handed          50005   \n",
       "4  13.37    autism    autism    109.0   left handed          50006   \n",
       "\n",
       "   performance iq           project     sex site_id  verbal iq  \n",
       "0            89.0  abide_initiative    Male    PITT      116.0  \n",
       "1           115.0  abide_initiative    Male    PITT      128.0  \n",
       "2           117.0  abide_initiative    Male    PITT      108.0  \n",
       "3           118.0  abide_initiative  Female    PITT      117.0  \n",
       "4           119.0  abide_initiative    Male    PITT       99.0  "
      ]
     },
     "execution_count": 113,
     "metadata": {},
     "output_type": "execute_result"
    }
   ],
   "source": [
    "df_list = [pd.read_csv(i) for i in csv_files]\n",
    "df = pd.concat(df_list)\n",
    "df.to_csv(os.path.join(load_path, 'phenotype.csv'), columns=columns, index=False)\n",
    "df.head()"
   ]
  },
  {
   "cell_type": "code",
   "execution_count": 114,
   "metadata": {
    "collapsed": false
   },
   "outputs": [],
   "source": [
    "img_path = os.path.abspath( '../fcp-indi-new.gz')\n",
    "img = pd.read_csv(img_path, header=None)\n",
    "df = img[0]"
   ]
  },
  {
   "cell_type": "code",
   "execution_count": 115,
   "metadata": {
    "collapsed": false
   },
   "outputs": [],
   "source": [
    "paths = df.apply(lambda x: x.split(' ')[-1])"
   ]
  },
  {
   "cell_type": "code",
   "execution_count": 7,
   "metadata": {
    "collapsed": false
   },
   "outputs": [],
   "source": [
    "bucket = 'https://s3.amazonaws.com/fcp-indi/'\n",
    "aws_paths = paths.apply(lambda x: ''.join([bucket, x]))"
   ]
  },
  {
   "cell_type": "code",
   "execution_count": 8,
   "metadata": {
    "collapsed": false
   },
   "outputs": [],
   "source": [
    "# Break the path into parts.\n",
    "lists = aws_paths.str.split('/')"
   ]
  },
  {
   "cell_type": "code",
   "execution_count": 9,
   "metadata": {
    "collapsed": false
   },
   "outputs": [],
   "source": [
    "# Pull the project name out of the path.\n",
    "def get_project(x):\n",
    "    try:\n",
    "        return x[6].lower()\n",
    "    except:\n",
    "        return None\n",
    "projects = lists.apply(get_project)"
   ]
  },
  {
   "cell_type": "code",
   "execution_count": 10,
   "metadata": {
    "collapsed": false
   },
   "outputs": [],
   "source": [
    "final = pd.DataFrame(data=dict(project=projects, url=aws_paths))"
   ]
  },
  {
   "cell_type": "code",
   "execution_count": 11,
   "metadata": {
    "collapsed": false
   },
   "outputs": [],
   "source": [
    "nii = final[final.url.str.endswith('nii.gz')]"
   ]
  },
  {
   "cell_type": "code",
   "execution_count": 13,
   "metadata": {
    "collapsed": false
   },
   "outputs": [],
   "source": [
    "abide= nii[nii.project == 'abide_initiative']"
   ]
  },
  {
   "cell_type": "code",
   "execution_count": 19,
   "metadata": {
    "collapsed": false
   },
   "outputs": [],
   "source": [
    "abide_raw = abide[abide.url.str.contains('RawData')]"
   ]
  },
  {
   "cell_type": "code",
   "execution_count": 22,
   "metadata": {
    "collapsed": false
   },
   "outputs": [],
   "source": [
    "abide_anat = abide_raw[abide_raw.url.str.contains('anat')]"
   ]
  },
  {
   "cell_type": "code",
   "execution_count": 27,
   "metadata": {
    "collapsed": false
   },
   "outputs": [],
   "source": [
    "abide_list = abide_anat.url.str.split('/')"
   ]
  },
  {
   "cell_type": "code",
   "execution_count": 31,
   "metadata": {
    "collapsed": false
   },
   "outputs": [],
   "source": [
    "def get_abide_sub(x):\n",
    "    try:\n",
    "        return x[9]\n",
    "    except:\n",
    "        return None\n",
    "abide_sub = abide_list.apply(get_abide_sub)"
   ]
  },
  {
   "cell_type": "code",
   "execution_count": 43,
   "metadata": {
    "collapsed": false
   },
   "outputs": [
    {
     "name": "stderr",
     "output_type": "stream",
     "text": [
      "/Users/nicholsn/miniconda/envs/metasearch/lib/python2.7/site-packages/ipykernel/__main__.py:1: SettingWithCopyWarning: \n",
      "A value is trying to be set on a copy of a slice from a DataFrame.\n",
      "Try using .loc[row_indexer,col_indexer] = value instead\n",
      "\n",
      "See the caveats in the documentation: http://pandas.pydata.org/pandas-docs/stable/indexing.html#indexing-view-versus-copy\n",
      "  if __name__ == '__main__':\n"
     ]
    }
   ],
   "source": [
    "abide_anat['participant_id'] = abide_sub.apply(lambda x: x[2:])"
   ]
  },
  {
   "cell_type": "code",
   "execution_count": 104,
   "metadata": {
    "collapsed": false
   },
   "outputs": [],
   "source": [
    "df.participant_id = df.participant_id.astype(pd.np.str)\n",
    "pheno = df.set_index(['participant_id'], drop=False)"
   ]
  },
  {
   "cell_type": "code",
   "execution_count": 105,
   "metadata": {
    "collapsed": false
   },
   "outputs": [],
   "source": [
    "anat = abide_anat.set_index(['participant_id'], drop=False)"
   ]
  },
  {
   "cell_type": "code",
   "execution_count": 106,
   "metadata": {
    "collapsed": false
   },
   "outputs": [],
   "source": [
    "pheno['t1_url'] = anat.url"
   ]
  },
  {
   "cell_type": "code",
   "execution_count": 74,
   "metadata": {
    "collapsed": false
   },
   "outputs": [],
   "source": [
    "r = pd.merge(pheno, anat, how='left', right_on='participant_id', left_on='participant_id')"
   ]
  }
 ],
 "metadata": {
  "kernelspec": {
   "display_name": "Python 2",
   "language": "python",
   "name": "python2"
  },
  "language_info": {
   "codemirror_mode": {
    "name": "ipython",
    "version": 2
   },
   "file_extension": ".py",
   "mimetype": "text/x-python",
   "name": "python",
   "nbconvert_exporter": "python",
   "pygments_lexer": "ipython2",
   "version": "2.7.12"
  }
 },
 "nbformat": 4,
 "nbformat_minor": 1
}
