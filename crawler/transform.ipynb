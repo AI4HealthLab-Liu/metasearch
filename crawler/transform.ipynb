{
 "cells": [
  {
   "cell_type": "markdown",
   "metadata": {},
   "source": [
    "# Transform Phenotypic Data into a Common Format\n",
    "This script accesses the extracted data in their original format and applys a mapping to harmonize the data into a common tabular format."
   ]
  },
  {
   "cell_type": "code",
   "execution_count": 1,
   "metadata": {
    "collapsed": false
   },
   "outputs": [],
   "source": [
    "import os\n",
    "import json\n",
    "import glob\n",
    "\n",
    "import numpy as np\n",
    "import pandas as pd"
   ]
  },
  {
   "cell_type": "code",
   "execution_count": 10,
   "metadata": {
    "collapsed": false
   },
   "outputs": [],
   "source": [
    "# Path to repositories to pull raw data out of.\n",
    "curdir = os.path.abspath(os.path.curdir)\n",
    "repos = ['fcp-indi', 'brain-development', 'dataverse']\n",
    "extract_paths = [os.path.join(curdir, repo) for repo in repos]\n",
    "# Path to where the tranformed projects will go.\n",
    "xfm_dir = os.path.join(curdir, 'metadata')\n",
    "if not os.path.exists(xfm_dir):\n",
    "    os.mkdir(xfm_dir)\n",
    "# Project dirs.\n",
    "extract_dirs = list()\n",
    "for extract_path in extract_paths:\n",
    "    project_paths = [os.path.join(extract_path, project) for project in os.listdir(extract_path) if '.' not in project]\n",
    "    extract_dirs.extend(project_paths)"
   ]
  },
  {
   "cell_type": "code",
   "execution_count": 11,
   "metadata": {
    "collapsed": false
   },
   "outputs": [],
   "source": [
    "def apply_mapping(mapping, df_list):\n",
    "    \"\"\"\n",
    "    Reads a dictionary mapping and list of dataframe, then merges the\n",
    "    dataframes and convers the column name and values into a common\n",
    "    format. Note: the dataframes should have a common structure.\n",
    "    \n",
    "    Example Mapping Structure\n",
    "    =========================\n",
    "    {  \n",
    "        \"DX_GROUP\":\n",
    "      {\n",
    "        \"element\": \"diagnosis\",\n",
    "        \"type\": \"category\",\n",
    "        \"1\": \"autism\",\n",
    "        \"2\": \"control\"\n",
    "      }\n",
    "    }\n",
    "    \"\"\"\n",
    "    results = list()\n",
    "    csv = pd.concat(df_list)\n",
    "    csv.reset_index(drop=True, inplace=True)\n",
    "    for col, elem in mapping.iteritems():\n",
    "        # Use get in case the col is missing/static.\n",
    "        series = csv.get(col)\n",
    "        # Categories are mapped to common values.\n",
    "        if elem.get('type') == 'str':\n",
    "            result = series.apply(lambda x: elem.get(str(x)))\n",
    "        # Values parsed as numbers are checked for any mappings (e.g., -999 == NaN).\n",
    "        elif elem.get('type') == 'float':\n",
    "            result = series.apply(lambda x: np.NaN if str(x) in elem.keys() else x)\n",
    "        # Used to create a column of all the same value.\n",
    "        elif elem.get('type') == 'static':\n",
    "            val = [elem.get('value')] * csv.shape[0]\n",
    "            result = pd.Series(val, index=csv.index)\n",
    "        else:\n",
    "            try:\n",
    "                # Handle IDs being read as float.\n",
    "                result = series.apply(lambda x: str(int(x)) if pd.notnull(x) else x)\n",
    "            except ValueError as e:\n",
    "                result = series\n",
    "        # Concat all csv in a extract dir into one dataframe.        \n",
    "        df = pd.DataFrame()\n",
    "        df[elem.get('element')] = result\n",
    "        results.append(df)\n",
    "        concat = pd.concat(results, axis=1)\n",
    "    # Merge any columns with duplicate names to fil in NaN from concat step.\n",
    "    return concat.groupby(level=0, axis=1).first()"
   ]
  },
  {
   "cell_type": "code",
   "execution_count": 13,
   "metadata": {
    "collapsed": false
   },
   "outputs": [],
   "source": [
    "# Read a mapping.json file from each sub directory to process.\n",
    "for extract_dir in extract_dirs:\n",
    "    df_list = list()\n",
    "    mapping = dict()\n",
    "    project_name = extract_dir.split('/')[-1]\n",
    "    # All files must use the same data dictionary in a given directory.\n",
    "    extract_files = [os.path.join(extract_dir, i) for i in os.listdir(extract_dir) if i not in ['mapping.json']]\n",
    "    mapping_file = os.path.join(extract_dir, 'mapping.json')\n",
    "    if os.path.exists(mapping_file):\n",
    "        with open(mapping_file, 'rb') as fi:\n",
    "            mapping.update(json.load(fi))\n",
    "        ext_type = dict(csv=',', tsv='\\t')\n",
    "        # Grab dtype for parsing csv\n",
    "        dtype = {k: v.get('type') for k, v in mapping.iteritems() if v.get('type') in ['str', 'int', 'float']}\n",
    "        dtype.update({k: 'str' for k, v in mapping.iteritems() if v.get('type') in ['static']})\n",
    "        # Dealing with NaNs.\n",
    "        na_values = ['NoPhenotypicData', '#']\n",
    "        for extract_file in extract_files:\n",
    "            # Process each file.\n",
    "            ext = extract_file.split('.')[-1]\n",
    "            sep_type = ext_type.get(ext)\n",
    "            df = pd.read_csv(extract_file, sep=sep_type, dtype=dtype, na_values=na_values)\n",
    "            df_list.append(df.drop_duplicates())\n",
    "        xfm = apply_mapping(mapping, df_list)\n",
    "        pheno_file = ''.join([project_name, '_', 'phenotype.csv'])\n",
    "        pheno_path = os.path.join(xfm_dir, pheno_file)\n",
    "        xfm.to_csv(pheno_path, index=False)"
   ]
  },
  {
   "cell_type": "code",
   "execution_count": 14,
   "metadata": {
    "collapsed": false
   },
   "outputs": [
    {
     "data": {
      "text/html": [
       "<div>\n",
       "<table border=\"1\" class=\"dataframe\">\n",
       "  <thead>\n",
       "    <tr style=\"text-align: right;\">\n",
       "      <th></th>\n",
       "      <th></th>\n",
       "      <th></th>\n",
       "      <th>age</th>\n",
       "      <th>diagnosis</th>\n",
       "      <th>dsm_iv_tr</th>\n",
       "      <th>education</th>\n",
       "      <th>ethnicity</th>\n",
       "      <th>full iq</th>\n",
       "      <th>handedness</th>\n",
       "      <th>marital_status</th>\n",
       "      <th>occupation</th>\n",
       "      <th>performance iq</th>\n",
       "      <th>sex</th>\n",
       "      <th>site_id</th>\n",
       "      <th>species</th>\n",
       "      <th>verbal iq</th>\n",
       "    </tr>\n",
       "    <tr>\n",
       "      <th>project</th>\n",
       "      <th>session_id</th>\n",
       "      <th>participant_id</th>\n",
       "      <th></th>\n",
       "      <th></th>\n",
       "      <th></th>\n",
       "      <th></th>\n",
       "      <th></th>\n",
       "      <th></th>\n",
       "      <th></th>\n",
       "      <th></th>\n",
       "      <th></th>\n",
       "      <th></th>\n",
       "      <th></th>\n",
       "      <th></th>\n",
       "      <th></th>\n",
       "      <th></th>\n",
       "    </tr>\n",
       "  </thead>\n",
       "  <tbody>\n",
       "    <tr>\n",
       "      <th rowspan=\"5\" valign=\"top\">abide_initiative</th>\n",
       "      <th rowspan=\"5\" valign=\"top\">1</th>\n",
       "      <th>50002</th>\n",
       "      <td>16.77</td>\n",
       "      <td>autism</td>\n",
       "      <td>autism</td>\n",
       "      <td>NaN</td>\n",
       "      <td>NaN</td>\n",
       "      <td>103.0</td>\n",
       "      <td>ambidextrous</td>\n",
       "      <td>NaN</td>\n",
       "      <td>NaN</td>\n",
       "      <td>89.0</td>\n",
       "      <td>Male</td>\n",
       "      <td>PITT</td>\n",
       "      <td>homo-sapiens</td>\n",
       "      <td>116.0</td>\n",
       "    </tr>\n",
       "    <tr>\n",
       "      <th>50003</th>\n",
       "      <td>24.45</td>\n",
       "      <td>autism</td>\n",
       "      <td>autism</td>\n",
       "      <td>NaN</td>\n",
       "      <td>NaN</td>\n",
       "      <td>124.0</td>\n",
       "      <td>right handed</td>\n",
       "      <td>NaN</td>\n",
       "      <td>NaN</td>\n",
       "      <td>115.0</td>\n",
       "      <td>Male</td>\n",
       "      <td>PITT</td>\n",
       "      <td>homo-sapiens</td>\n",
       "      <td>128.0</td>\n",
       "    </tr>\n",
       "    <tr>\n",
       "      <th>50004</th>\n",
       "      <td>19.09</td>\n",
       "      <td>autism</td>\n",
       "      <td>autism</td>\n",
       "      <td>NaN</td>\n",
       "      <td>NaN</td>\n",
       "      <td>113.0</td>\n",
       "      <td>right handed</td>\n",
       "      <td>NaN</td>\n",
       "      <td>NaN</td>\n",
       "      <td>117.0</td>\n",
       "      <td>Male</td>\n",
       "      <td>PITT</td>\n",
       "      <td>homo-sapiens</td>\n",
       "      <td>108.0</td>\n",
       "    </tr>\n",
       "    <tr>\n",
       "      <th>50005</th>\n",
       "      <td>13.73</td>\n",
       "      <td>autism</td>\n",
       "      <td>autism</td>\n",
       "      <td>NaN</td>\n",
       "      <td>NaN</td>\n",
       "      <td>119.0</td>\n",
       "      <td>right handed</td>\n",
       "      <td>NaN</td>\n",
       "      <td>NaN</td>\n",
       "      <td>118.0</td>\n",
       "      <td>Female</td>\n",
       "      <td>PITT</td>\n",
       "      <td>homo-sapiens</td>\n",
       "      <td>117.0</td>\n",
       "    </tr>\n",
       "    <tr>\n",
       "      <th>50006</th>\n",
       "      <td>13.37</td>\n",
       "      <td>autism</td>\n",
       "      <td>autism</td>\n",
       "      <td>NaN</td>\n",
       "      <td>NaN</td>\n",
       "      <td>109.0</td>\n",
       "      <td>left handed</td>\n",
       "      <td>NaN</td>\n",
       "      <td>NaN</td>\n",
       "      <td>119.0</td>\n",
       "      <td>Male</td>\n",
       "      <td>PITT</td>\n",
       "      <td>homo-sapiens</td>\n",
       "      <td>99.0</td>\n",
       "    </tr>\n",
       "  </tbody>\n",
       "</table>\n",
       "</div>"
      ],
      "text/plain": [
       "                                              age diagnosis dsm_iv_tr  \\\n",
       "project          session_id participant_id                              \n",
       "abide_initiative 1          50002           16.77    autism    autism   \n",
       "                            50003           24.45    autism    autism   \n",
       "                            50004           19.09    autism    autism   \n",
       "                            50005           13.73    autism    autism   \n",
       "                            50006           13.37    autism    autism   \n",
       "\n",
       "                                           education ethnicity  full iq  \\\n",
       "project          session_id participant_id                                \n",
       "abide_initiative 1          50002                NaN       NaN    103.0   \n",
       "                            50003                NaN       NaN    124.0   \n",
       "                            50004                NaN       NaN    113.0   \n",
       "                            50005                NaN       NaN    119.0   \n",
       "                            50006                NaN       NaN    109.0   \n",
       "\n",
       "                                              handedness marital_status  \\\n",
       "project          session_id participant_id                                \n",
       "abide_initiative 1          50002           ambidextrous            NaN   \n",
       "                            50003           right handed            NaN   \n",
       "                            50004           right handed            NaN   \n",
       "                            50005           right handed            NaN   \n",
       "                            50006            left handed            NaN   \n",
       "\n",
       "                                           occupation  performance iq     sex  \\\n",
       "project          session_id participant_id                                      \n",
       "abide_initiative 1          50002                 NaN            89.0    Male   \n",
       "                            50003                 NaN           115.0    Male   \n",
       "                            50004                 NaN           117.0    Male   \n",
       "                            50005                 NaN           118.0  Female   \n",
       "                            50006                 NaN           119.0    Male   \n",
       "\n",
       "                                           site_id       species  verbal iq  \n",
       "project          session_id participant_id                                   \n",
       "abide_initiative 1          50002             PITT  homo-sapiens      116.0  \n",
       "                            50003             PITT  homo-sapiens      128.0  \n",
       "                            50004             PITT  homo-sapiens      108.0  \n",
       "                            50005             PITT  homo-sapiens      117.0  \n",
       "                            50006             PITT  homo-sapiens       99.0  "
      ]
     },
     "execution_count": 14,
     "metadata": {},
     "output_type": "execute_result"
    }
   ],
   "source": [
    "# Merge all the transformed files into a single frame\n",
    "meta_files = glob.glob(xfm_dir + '/*.csv')\n",
    "meta_list = list()\n",
    "for meta_file in meta_files:\n",
    "    df = pd.read_csv(meta_file, dtype={'session_id': 'str',\n",
    "                                       'participant_id': 'str'})\n",
    "    meta_list.append(df)\n",
    "meta_df = pd.concat(meta_list).set_index(['project', 'session_id', 'participant_id'])\n",
    "meta = meta_df.drop_duplicates()\n",
    "meta.head()"
   ]
  },
  {
   "cell_type": "code",
   "execution_count": 15,
   "metadata": {
    "collapsed": false
   },
   "outputs": [
    {
     "data": {
      "text/html": [
       "<div>\n",
       "<table border=\"1\" class=\"dataframe\">\n",
       "  <thead>\n",
       "    <tr style=\"text-align: right;\">\n",
       "      <th></th>\n",
       "      <th></th>\n",
       "      <th></th>\n",
       "      <th>t1_url</th>\n",
       "      <th>session_count</th>\n",
       "    </tr>\n",
       "    <tr>\n",
       "      <th>project</th>\n",
       "      <th>session_id</th>\n",
       "      <th>participant_id</th>\n",
       "      <th></th>\n",
       "      <th></th>\n",
       "    </tr>\n",
       "  </thead>\n",
       "  <tbody>\n",
       "    <tr>\n",
       "      <th rowspan=\"5\" valign=\"top\">abide_initiative</th>\n",
       "      <th rowspan=\"5\" valign=\"top\">1</th>\n",
       "      <th>50002</th>\n",
       "      <td>https://s3.amazonaws.com/fcp-indi/data/Project...</td>\n",
       "      <td>1</td>\n",
       "    </tr>\n",
       "    <tr>\n",
       "      <th>50003</th>\n",
       "      <td>https://s3.amazonaws.com/fcp-indi/data/Project...</td>\n",
       "      <td>1</td>\n",
       "    </tr>\n",
       "    <tr>\n",
       "      <th>50004</th>\n",
       "      <td>https://s3.amazonaws.com/fcp-indi/data/Project...</td>\n",
       "      <td>1</td>\n",
       "    </tr>\n",
       "    <tr>\n",
       "      <th>50005</th>\n",
       "      <td>https://s3.amazonaws.com/fcp-indi/data/Project...</td>\n",
       "      <td>1</td>\n",
       "    </tr>\n",
       "    <tr>\n",
       "      <th>50006</th>\n",
       "      <td>https://s3.amazonaws.com/fcp-indi/data/Project...</td>\n",
       "      <td>1</td>\n",
       "    </tr>\n",
       "  </tbody>\n",
       "</table>\n",
       "</div>"
      ],
      "text/plain": [
       "                                                                                       t1_url  \\\n",
       "project          session_id participant_id                                                      \n",
       "abide_initiative 1          50002           https://s3.amazonaws.com/fcp-indi/data/Project...   \n",
       "                            50003           https://s3.amazonaws.com/fcp-indi/data/Project...   \n",
       "                            50004           https://s3.amazonaws.com/fcp-indi/data/Project...   \n",
       "                            50005           https://s3.amazonaws.com/fcp-indi/data/Project...   \n",
       "                            50006           https://s3.amazonaws.com/fcp-indi/data/Project...   \n",
       "\n",
       "                                            session_count  \n",
       "project          session_id participant_id                 \n",
       "abide_initiative 1          50002                       1  \n",
       "                            50003                       1  \n",
       "                            50004                       1  \n",
       "                            50005                       1  \n",
       "                            50006                       1  "
      ]
     },
     "execution_count": 15,
     "metadata": {},
     "output_type": "execute_result"
    }
   ],
   "source": [
    "# Load the CSV with MRI URLs\n",
    "mri_path = os.path.abspath('clean-csv/all-session.csv')\n",
    "mri = pd.read_csv(mri_path).set_index(['project', 'session_id', 'participant_id'])\n",
    "mri.head()"
   ]
  },
  {
   "cell_type": "code",
   "execution_count": 16,
   "metadata": {
    "collapsed": false
   },
   "outputs": [],
   "source": [
    "# Grab only the records with unique indices (NKI-RS has duplicate records and needs to be cleaned)\n",
    "dups = meta.loc[meta.index.duplicated()]\n",
    "only_unique = meta.loc[~meta.index.duplicated()]\n",
    "unique = pd.concat([only_unique, dups])"
   ]
  },
  {
   "cell_type": "code",
   "execution_count": 17,
   "metadata": {
    "collapsed": false
   },
   "outputs": [],
   "source": [
    "# Merge Datasets\n",
    "joined = unique.join(mri, how='outer')\n",
    "joined['MRI'] = joined.t1_url.apply(lambda x: 'no' if pd.isnull(x) else 'yes')\n",
    "final = joined.reset_index()"
   ]
  },
  {
   "cell_type": "code",
   "execution_count": 20,
   "metadata": {
    "collapsed": false
   },
   "outputs": [
    {
     "ename": "ValueError",
     "evalue": "Length mismatch: Expected axis has 20 elements, new values have 16 elements",
     "output_type": "error",
     "traceback": [
      "\u001b[0;31m---------------------------------------------------------------------------\u001b[0m",
      "\u001b[0;31mValueError\u001b[0m                                Traceback (most recent call last)",
      "\u001b[0;32m<ipython-input-20-06d9ce9fb4ac>\u001b[0m in \u001b[0;36m<module>\u001b[0;34m()\u001b[0m\n\u001b[1;32m     14\u001b[0m                  \u001b[0;34m'MRIs'\u001b[0m\u001b[0;34m,\u001b[0m\u001b[0;34m\u001b[0m\u001b[0m\n\u001b[1;32m     15\u001b[0m                  \u001b[0;34m'session_count'\u001b[0m\u001b[0;34m,\u001b[0m\u001b[0;34m\u001b[0m\u001b[0m\n\u001b[0;32m---> 16\u001b[0;31m                  'MRI']\n\u001b[0m\u001b[1;32m     17\u001b[0m \u001b[0mfinal\u001b[0m\u001b[0;34m.\u001b[0m\u001b[0mto_csv\u001b[0m\u001b[0;34m(\u001b[0m\u001b[0;34m'../docs/data/phenotype_mri.csv'\u001b[0m\u001b[0;34m,\u001b[0m \u001b[0mindex\u001b[0m\u001b[0;34m=\u001b[0m\u001b[0mFalse\u001b[0m\u001b[0;34m)\u001b[0m\u001b[0;34m\u001b[0m\u001b[0m\n",
      "\u001b[0;32m/Users/nicholsn/miniconda/envs/metasearch/lib/python2.7/site-packages/pandas/core/generic.pyc\u001b[0m in \u001b[0;36m__setattr__\u001b[0;34m(self, name, value)\u001b[0m\n\u001b[1;32m   2755\u001b[0m         \u001b[0;32mtry\u001b[0m\u001b[0;34m:\u001b[0m\u001b[0;34m\u001b[0m\u001b[0m\n\u001b[1;32m   2756\u001b[0m             \u001b[0mobject\u001b[0m\u001b[0;34m.\u001b[0m\u001b[0m__getattribute__\u001b[0m\u001b[0;34m(\u001b[0m\u001b[0mself\u001b[0m\u001b[0;34m,\u001b[0m \u001b[0mname\u001b[0m\u001b[0;34m)\u001b[0m\u001b[0;34m\u001b[0m\u001b[0m\n\u001b[0;32m-> 2757\u001b[0;31m             \u001b[0;32mreturn\u001b[0m \u001b[0mobject\u001b[0m\u001b[0;34m.\u001b[0m\u001b[0m__setattr__\u001b[0m\u001b[0;34m(\u001b[0m\u001b[0mself\u001b[0m\u001b[0;34m,\u001b[0m \u001b[0mname\u001b[0m\u001b[0;34m,\u001b[0m \u001b[0mvalue\u001b[0m\u001b[0;34m)\u001b[0m\u001b[0;34m\u001b[0m\u001b[0m\n\u001b[0m\u001b[1;32m   2758\u001b[0m         \u001b[0;32mexcept\u001b[0m \u001b[0mAttributeError\u001b[0m\u001b[0;34m:\u001b[0m\u001b[0;34m\u001b[0m\u001b[0m\n\u001b[1;32m   2759\u001b[0m             \u001b[0;32mpass\u001b[0m\u001b[0;34m\u001b[0m\u001b[0m\n",
      "\u001b[0;32mpandas/src/properties.pyx\u001b[0m in \u001b[0;36mpandas.lib.AxisProperty.__set__ (pandas/lib.c:44336)\u001b[0;34m()\u001b[0m\n",
      "\u001b[0;32m/Users/nicholsn/miniconda/envs/metasearch/lib/python2.7/site-packages/pandas/core/generic.pyc\u001b[0m in \u001b[0;36m_set_axis\u001b[0;34m(self, axis, labels)\u001b[0m\n\u001b[1;32m    446\u001b[0m \u001b[0;34m\u001b[0m\u001b[0m\n\u001b[1;32m    447\u001b[0m     \u001b[0;32mdef\u001b[0m \u001b[0m_set_axis\u001b[0m\u001b[0;34m(\u001b[0m\u001b[0mself\u001b[0m\u001b[0;34m,\u001b[0m \u001b[0maxis\u001b[0m\u001b[0;34m,\u001b[0m \u001b[0mlabels\u001b[0m\u001b[0;34m)\u001b[0m\u001b[0;34m:\u001b[0m\u001b[0;34m\u001b[0m\u001b[0m\n\u001b[0;32m--> 448\u001b[0;31m         \u001b[0mself\u001b[0m\u001b[0;34m.\u001b[0m\u001b[0m_data\u001b[0m\u001b[0;34m.\u001b[0m\u001b[0mset_axis\u001b[0m\u001b[0;34m(\u001b[0m\u001b[0maxis\u001b[0m\u001b[0;34m,\u001b[0m \u001b[0mlabels\u001b[0m\u001b[0;34m)\u001b[0m\u001b[0;34m\u001b[0m\u001b[0m\n\u001b[0m\u001b[1;32m    449\u001b[0m         \u001b[0mself\u001b[0m\u001b[0;34m.\u001b[0m\u001b[0m_clear_item_cache\u001b[0m\u001b[0;34m(\u001b[0m\u001b[0;34m)\u001b[0m\u001b[0;34m\u001b[0m\u001b[0m\n\u001b[1;32m    450\u001b[0m \u001b[0;34m\u001b[0m\u001b[0m\n",
      "\u001b[0;32m/Users/nicholsn/miniconda/envs/metasearch/lib/python2.7/site-packages/pandas/core/internals.pyc\u001b[0m in \u001b[0;36mset_axis\u001b[0;34m(self, axis, new_labels)\u001b[0m\n\u001b[1;32m   2779\u001b[0m             raise ValueError('Length mismatch: Expected axis has %d elements, '\n\u001b[1;32m   2780\u001b[0m                              \u001b[0;34m'new values have %d elements'\u001b[0m \u001b[0;34m%\u001b[0m\u001b[0;34m\u001b[0m\u001b[0m\n\u001b[0;32m-> 2781\u001b[0;31m                              (old_len, new_len))\n\u001b[0m\u001b[1;32m   2782\u001b[0m \u001b[0;34m\u001b[0m\u001b[0m\n\u001b[1;32m   2783\u001b[0m         \u001b[0mself\u001b[0m\u001b[0;34m.\u001b[0m\u001b[0maxes\u001b[0m\u001b[0;34m[\u001b[0m\u001b[0maxis\u001b[0m\u001b[0;34m]\u001b[0m \u001b[0;34m=\u001b[0m \u001b[0mnew_labels\u001b[0m\u001b[0;34m\u001b[0m\u001b[0m\n",
      "\u001b[0;31mValueError\u001b[0m: Length mismatch: Expected axis has 20 elements, new values have 16 elements"
     ]
    }
   ],
   "source": [
    "final.columns = ['project',\n",
    "                 'session_id',\n",
    "                 'participant_id',\n",
    "                 'age',\n",
    "                 'diagnosis',\n",
    "                 'dsm_iv_tr',\n",
    "                 'full iq',\n",
    "                 'handedness',\n",
    "                 'performance iq',\n",
    "                 'sex',\n",
    "                 'site_id',\n",
    "                 'species',\n",
    "                 'verbal iq',\n",
    "                 'MRIs',\n",
    "                 'session_count',\n",
    "                 'MRI']\n",
    "final.to_csv('../docs/data/phenotype_mri.csv', index=False)"
   ]
  },
  {
   "cell_type": "code",
   "execution_count": 21,
   "metadata": {
    "collapsed": false
   },
   "outputs": [
    {
     "data": {
      "text/plain": [
       "Index([u'project', u'session_id', u'participant_id', u'age', u'diagnosis',\n",
       "       u'dsm_iv_tr', u'education', u'ethnicity', u'full iq', u'handedness',\n",
       "       u'marital_status', u'occupation', u'performance iq', u'sex', u'site_id',\n",
       "       u'species', u'verbal iq', u't1_url', u'session_count', u'MRI'],\n",
       "      dtype='object')"
      ]
     },
     "execution_count": 21,
     "metadata": {},
     "output_type": "execute_result"
    }
   ],
   "source": [
    "final.columns"
   ]
  },
  {
   "cell_type": "code",
   "execution_count": null,
   "metadata": {
    "collapsed": true
   },
   "outputs": [],
   "source": []
  }
 ],
 "metadata": {
  "kernelspec": {
   "display_name": "Python 2",
   "language": "python",
   "name": "python2"
  },
  "language_info": {
   "codemirror_mode": {
    "name": "ipython",
    "version": 2
   },
   "file_extension": ".py",
   "mimetype": "text/x-python",
   "name": "python",
   "nbconvert_exporter": "python",
   "pygments_lexer": "ipython2",
   "version": "2.7.12"
  }
 },
 "nbformat": 4,
 "nbformat_minor": 0
}
