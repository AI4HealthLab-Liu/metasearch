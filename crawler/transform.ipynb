{
 "cells": [
  {
   "cell_type": "markdown",
   "metadata": {},
   "source": [
    "# Transform Phenotypic Data into a Common Format\n",
    "This script accesses the extracted data in their original format and applys a mapping to harmonize the data into a common tabular format."
   ]
  },
  {
   "cell_type": "code",
   "execution_count": 1,
   "metadata": {
    "collapsed": false
   },
   "outputs": [],
   "source": [
    "import os\n",
    "import json\n",
    "import glob\n",
    "\n",
    "import numpy as np\n",
    "import pandas as pd"
   ]
  },
  {
   "cell_type": "code",
   "execution_count": 2,
   "metadata": {
    "collapsed": false
   },
   "outputs": [],
   "source": [
    "# Path to repositories to pull raw data out of.\n",
    "curdir = os.path.abspath(os.path.curdir)\n",
    "repos = ['fcp-indi']\n",
    "extract_paths = [os.path.join(curdir, repo) for repo in repos]\n",
    "# Path to where the tranformed projects will go.\n",
    "xfm_dir = os.path.join(curdir, 'metadata')\n",
    "if not os.path.exists(xfm_dir):\n",
    "    os.mkdir(xfm_dir)\n",
    "# Project dirs.\n",
    "extract_dirs = list()\n",
    "for extract_path in extract_paths:\n",
    "    project_paths = [os.path.join(extract_path, project) for project in os.listdir(extract_path) if '.' not in project]\n",
    "    extract_dirs.extend(project_paths)"
   ]
  },
  {
   "cell_type": "code",
   "execution_count": 3,
   "metadata": {
    "collapsed": false
   },
   "outputs": [],
   "source": [
    "def apply_mapping(mapping, df_list):\n",
    "    \"\"\"\n",
    "    Reads a dictionary mapping and list of dataframe, then merges the\n",
    "    dataframes and convers the column name and values into a common\n",
    "    format. Note: the dataframes should have a common structure.\n",
    "    \n",
    "    Example Mapping Structure\n",
    "    =========================\n",
    "    {  \n",
    "        \"DX_GROUP\":\n",
    "      {\n",
    "        \"element\": \"diagnosis\",\n",
    "        \"type\": \"category\",\n",
    "        \"1\": \"autism\",\n",
    "        \"2\": \"control\"\n",
    "      }\n",
    "    }\n",
    "    \"\"\"\n",
    "    results = list()\n",
    "    csv = pd.concat(df_list)\n",
    "    csv.reset_index(drop=True, inplace=True)\n",
    "    for col, elem in mapping.iteritems():\n",
    "        # Use get in case the col is missing/static.\n",
    "        series = csv.get(col)\n",
    "        # Categories are mapped to common values.\n",
    "        if elem.get('type') == 'str':\n",
    "            result = series.apply(lambda x: elem.get(str(x)))\n",
    "        # Values parsed as numbers are checked for any mappings (e.g., -999 == NaN).\n",
    "        elif elem.get('type') == 'float':\n",
    "            result = series.apply(lambda x: np.NaN if str(x) in elem.keys() else x)\n",
    "        # Used to create a column of all the same value.\n",
    "        elif elem.get('type') == 'static':\n",
    "            val = [elem.get('value')] * csv.shape[0]\n",
    "            result = pd.Series(val, index=csv.index)\n",
    "        else:\n",
    "            try:\n",
    "                # Handle IDs being read as float.\n",
    "                result = series.apply(lambda x: str(int(x)) if pd.notnull(x) else x)\n",
    "            except ValueError as e:\n",
    "                result = series\n",
    "        # Concat all csv in a extract dir into one dataframe.        \n",
    "        df = pd.DataFrame()\n",
    "        df[elem.get('element')] = result\n",
    "        results.append(df)\n",
    "        concat = pd.concat(results, axis=1)\n",
    "    # Merge any columns with duplicate names to fil in NaN from concat step.\n",
    "    return concat.groupby(level=0, axis=1).first()"
   ]
  },
  {
   "cell_type": "code",
   "execution_count": 8,
   "metadata": {
    "collapsed": false
   },
   "outputs": [],
   "source": [
    "# Read a mapping.json file from each sub directory to process.\n",
    "for extract_dir in extract_dirs:\n",
    "    df_list = list()\n",
    "    mapping = dict()\n",
    "    project_name = extract_dir.split('/')[-1]\n",
    "    # All files must use the same data dictionary in a given directory.\n",
    "    extract_files = [os.path.join(extract_dir, i) for i in os.listdir(extract_dir) if i not in ['mapping.json']]\n",
    "    mapping_file = os.path.join(extract_dir, 'mapping.json')\n",
    "    if os.path.exists(mapping_file):\n",
    "        with open(mapping_file, 'rb') as fi:\n",
    "            mapping.update(json.load(fi))\n",
    "        ext_type = dict(csv=',', tsv='\\t')\n",
    "        # Grab dtype for parsing csv\n",
    "        dtype = {k: v.get('type') for k, v in mapping.iteritems() if v.get('type') in ['str', 'int', 'float']}\n",
    "        dtype.update({k: 'str' for k, v in mapping.iteritems() if v.get('type') in ['static']})\n",
    "        # Dealing with NaNs.\n",
    "        na_values = ['NoPhenotypicData', '#']\n",
    "        for extract_file in extract_files:\n",
    "            # Process each file.\n",
    "            ext = extract_file.split('.')[-1]\n",
    "            sep_type = ext_type.get(ext)\n",
    "            df = pd.read_csv(extract_file, sep=sep_type, dtype=dtype, na_values=na_values)\n",
    "            df_list.append(df.drop_duplicates())\n",
    "        xfm = apply_mapping(mapping, df_list)\n",
    "        pheno_file = ''.join([project_name, '_', 'phenotype.csv'])\n",
    "        pheno_path = os.path.join(xfm_dir, pheno_file)\n",
    "        xfm.to_csv(pheno_path, index=False)"
   ]
  },
  {
   "cell_type": "code",
   "execution_count": 17,
   "metadata": {
    "collapsed": false
   },
   "outputs": [
    {
     "data": {
      "text/html": [
       "<div>\n",
       "<table border=\"1\" class=\"dataframe\">\n",
       "  <thead>\n",
       "    <tr style=\"text-align: right;\">\n",
       "      <th></th>\n",
       "      <th></th>\n",
       "      <th></th>\n",
       "      <th>age</th>\n",
       "      <th>diagnosis</th>\n",
       "      <th>dsm_iv_tr</th>\n",
       "      <th>full iq</th>\n",
       "      <th>handedness</th>\n",
       "      <th>performance iq</th>\n",
       "      <th>sex</th>\n",
       "      <th>site_id</th>\n",
       "      <th>species</th>\n",
       "      <th>verbal iq</th>\n",
       "    </tr>\n",
       "    <tr>\n",
       "      <th>project</th>\n",
       "      <th>session_id</th>\n",
       "      <th>participant_id</th>\n",
       "      <th></th>\n",
       "      <th></th>\n",
       "      <th></th>\n",
       "      <th></th>\n",
       "      <th></th>\n",
       "      <th></th>\n",
       "      <th></th>\n",
       "      <th></th>\n",
       "      <th></th>\n",
       "      <th></th>\n",
       "    </tr>\n",
       "  </thead>\n",
       "  <tbody>\n",
       "    <tr>\n",
       "      <th rowspan=\"5\" valign=\"top\">abide_initiative</th>\n",
       "      <th rowspan=\"5\" valign=\"top\">1</th>\n",
       "      <th>50002</th>\n",
       "      <td>16.77</td>\n",
       "      <td>autism</td>\n",
       "      <td>autism</td>\n",
       "      <td>103.0</td>\n",
       "      <td>ambidextrous</td>\n",
       "      <td>89.0</td>\n",
       "      <td>Male</td>\n",
       "      <td>PITT</td>\n",
       "      <td>homo-sapiens</td>\n",
       "      <td>116.0</td>\n",
       "    </tr>\n",
       "    <tr>\n",
       "      <th>50003</th>\n",
       "      <td>24.45</td>\n",
       "      <td>autism</td>\n",
       "      <td>autism</td>\n",
       "      <td>124.0</td>\n",
       "      <td>right handed</td>\n",
       "      <td>115.0</td>\n",
       "      <td>Male</td>\n",
       "      <td>PITT</td>\n",
       "      <td>homo-sapiens</td>\n",
       "      <td>128.0</td>\n",
       "    </tr>\n",
       "    <tr>\n",
       "      <th>50004</th>\n",
       "      <td>19.09</td>\n",
       "      <td>autism</td>\n",
       "      <td>autism</td>\n",
       "      <td>113.0</td>\n",
       "      <td>right handed</td>\n",
       "      <td>117.0</td>\n",
       "      <td>Male</td>\n",
       "      <td>PITT</td>\n",
       "      <td>homo-sapiens</td>\n",
       "      <td>108.0</td>\n",
       "    </tr>\n",
       "    <tr>\n",
       "      <th>50005</th>\n",
       "      <td>13.73</td>\n",
       "      <td>autism</td>\n",
       "      <td>autism</td>\n",
       "      <td>119.0</td>\n",
       "      <td>right handed</td>\n",
       "      <td>118.0</td>\n",
       "      <td>Female</td>\n",
       "      <td>PITT</td>\n",
       "      <td>homo-sapiens</td>\n",
       "      <td>117.0</td>\n",
       "    </tr>\n",
       "    <tr>\n",
       "      <th>50006</th>\n",
       "      <td>13.37</td>\n",
       "      <td>autism</td>\n",
       "      <td>autism</td>\n",
       "      <td>109.0</td>\n",
       "      <td>left handed</td>\n",
       "      <td>119.0</td>\n",
       "      <td>Male</td>\n",
       "      <td>PITT</td>\n",
       "      <td>homo-sapiens</td>\n",
       "      <td>99.0</td>\n",
       "    </tr>\n",
       "  </tbody>\n",
       "</table>\n",
       "</div>"
      ],
      "text/plain": [
       "                                              age diagnosis dsm_iv_tr  \\\n",
       "project          session_id participant_id                              \n",
       "abide_initiative 1          50002           16.77    autism    autism   \n",
       "                            50003           24.45    autism    autism   \n",
       "                            50004           19.09    autism    autism   \n",
       "                            50005           13.73    autism    autism   \n",
       "                            50006           13.37    autism    autism   \n",
       "\n",
       "                                            full iq    handedness  \\\n",
       "project          session_id participant_id                          \n",
       "abide_initiative 1          50002             103.0  ambidextrous   \n",
       "                            50003             124.0  right handed   \n",
       "                            50004             113.0  right handed   \n",
       "                            50005             119.0  right handed   \n",
       "                            50006             109.0   left handed   \n",
       "\n",
       "                                            performance iq     sex site_id  \\\n",
       "project          session_id participant_id                                   \n",
       "abide_initiative 1          50002                     89.0    Male    PITT   \n",
       "                            50003                    115.0    Male    PITT   \n",
       "                            50004                    117.0    Male    PITT   \n",
       "                            50005                    118.0  Female    PITT   \n",
       "                            50006                    119.0    Male    PITT   \n",
       "\n",
       "                                                 species  verbal iq  \n",
       "project          session_id participant_id                           \n",
       "abide_initiative 1          50002           homo-sapiens      116.0  \n",
       "                            50003           homo-sapiens      128.0  \n",
       "                            50004           homo-sapiens      108.0  \n",
       "                            50005           homo-sapiens      117.0  \n",
       "                            50006           homo-sapiens       99.0  "
      ]
     },
     "execution_count": 17,
     "metadata": {},
     "output_type": "execute_result"
    }
   ],
   "source": [
    "# Merge all the transformed files into a single frame\n",
    "meta_files = glob.glob(xfm_dir + '/*.csv')\n",
    "meta_list = list()\n",
    "for meta_file in meta_files:\n",
    "    df = pd.read_csv(meta_file, dtype={'session_id': 'str',\n",
    "                                       'participant_id': 'str'})\n",
    "    meta_list.append(df)\n",
    "meta_df = pd.concat(meta_list).set_index(['project', 'session_id', 'participant_id'])\n",
    "meta = meta_df.drop_duplicates()\n",
    "meta.head()"
   ]
  },
  {
   "cell_type": "code",
   "execution_count": 18,
   "metadata": {
    "collapsed": false
   },
   "outputs": [
    {
     "data": {
      "text/html": [
       "<div>\n",
       "<table border=\"1\" class=\"dataframe\">\n",
       "  <thead>\n",
       "    <tr style=\"text-align: right;\">\n",
       "      <th></th>\n",
       "      <th></th>\n",
       "      <th></th>\n",
       "      <th>t1_url</th>\n",
       "      <th>session_count</th>\n",
       "    </tr>\n",
       "    <tr>\n",
       "      <th>project</th>\n",
       "      <th>session_id</th>\n",
       "      <th>participant_id</th>\n",
       "      <th></th>\n",
       "      <th></th>\n",
       "    </tr>\n",
       "  </thead>\n",
       "  <tbody>\n",
       "    <tr>\n",
       "      <th rowspan=\"5\" valign=\"top\">abide_initiative</th>\n",
       "      <th rowspan=\"5\" valign=\"top\">1</th>\n",
       "      <th>50002</th>\n",
       "      <td>https://s3.amazonaws.com/fcp-indi/data/Project...</td>\n",
       "      <td>1</td>\n",
       "    </tr>\n",
       "    <tr>\n",
       "      <th>50003</th>\n",
       "      <td>https://s3.amazonaws.com/fcp-indi/data/Project...</td>\n",
       "      <td>1</td>\n",
       "    </tr>\n",
       "    <tr>\n",
       "      <th>50004</th>\n",
       "      <td>https://s3.amazonaws.com/fcp-indi/data/Project...</td>\n",
       "      <td>1</td>\n",
       "    </tr>\n",
       "    <tr>\n",
       "      <th>50005</th>\n",
       "      <td>https://s3.amazonaws.com/fcp-indi/data/Project...</td>\n",
       "      <td>1</td>\n",
       "    </tr>\n",
       "    <tr>\n",
       "      <th>50006</th>\n",
       "      <td>https://s3.amazonaws.com/fcp-indi/data/Project...</td>\n",
       "      <td>1</td>\n",
       "    </tr>\n",
       "  </tbody>\n",
       "</table>\n",
       "</div>"
      ],
      "text/plain": [
       "                                                                                       t1_url  \\\n",
       "project          session_id participant_id                                                      \n",
       "abide_initiative 1          50002           https://s3.amazonaws.com/fcp-indi/data/Project...   \n",
       "                            50003           https://s3.amazonaws.com/fcp-indi/data/Project...   \n",
       "                            50004           https://s3.amazonaws.com/fcp-indi/data/Project...   \n",
       "                            50005           https://s3.amazonaws.com/fcp-indi/data/Project...   \n",
       "                            50006           https://s3.amazonaws.com/fcp-indi/data/Project...   \n",
       "\n",
       "                                            session_count  \n",
       "project          session_id participant_id                 \n",
       "abide_initiative 1          50002                       1  \n",
       "                            50003                       1  \n",
       "                            50004                       1  \n",
       "                            50005                       1  \n",
       "                            50006                       1  "
      ]
     },
     "execution_count": 18,
     "metadata": {},
     "output_type": "execute_result"
    }
   ],
   "source": [
    "# Load the CSV with MRI URLs\n",
    "mri_path = os.path.abspath('clean-csv/all-session.csv')\n",
    "mri = pd.read_csv(mri_path).set_index(['project', 'session_id', 'participant_id'])\n",
    "mri.head()"
   ]
  },
  {
   "cell_type": "code",
   "execution_count": 19,
   "metadata": {
    "collapsed": false
   },
   "outputs": [],
   "source": [
    "# Grab only the records with unique indices (NKI-RS has duplicate records and needs to be cleaned)\n",
    "dups = meta.loc[meta.index.duplicated()]\n",
    "only_unique = meta.loc[~meta.index.duplicated()]\n",
    "unique = pd.concat([only_unique, dups])"
   ]
  },
  {
   "cell_type": "code",
   "execution_count": 30,
   "metadata": {
    "collapsed": false
   },
   "outputs": [],
   "source": [
    "# Merge Datasets\n",
    "joined = unique.join(mri, how='outer')\n",
    "joined['MRI'] = joined.t1_url.apply(lambda x: 'no' if pd.isnull(x) else 'yes')\n",
    "final = joined.reset_index()"
   ]
  },
  {
   "cell_type": "code",
   "execution_count": 31,
   "metadata": {
    "collapsed": false
   },
   "outputs": [],
   "source": [
    "final.to_csv('../docs/data/phenotype_mri.csv', index=False)"
   ]
  },
  {
   "cell_type": "code",
   "execution_count": null,
   "metadata": {
    "collapsed": true
   },
   "outputs": [],
   "source": []
  }
 ],
 "metadata": {
  "kernelspec": {
   "display_name": "Python 2",
   "language": "python",
   "name": "python2"
  },
  "language_info": {
   "codemirror_mode": {
    "name": "ipython",
    "version": 2
   },
   "file_extension": ".py",
   "mimetype": "text/x-python",
   "name": "python",
   "nbconvert_exporter": "python",
   "pygments_lexer": "ipython2",
   "version": "2.7.12"
  }
 },
 "nbformat": 4,
 "nbformat_minor": 0
}
