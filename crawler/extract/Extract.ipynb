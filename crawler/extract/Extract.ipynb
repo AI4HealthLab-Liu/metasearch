{
 "cells": [
  {
   "cell_type": "code",
   "execution_count": 17,
   "metadata": {
    "collapsed": true
   },
   "outputs": [],
   "source": [
    "import os\n",
    "\n",
    "import boto\n",
    "import requests"
   ]
  },
  {
   "cell_type": "code",
   "execution_count": 18,
   "metadata": {
    "collapsed": false
   },
   "outputs": [],
   "source": [
    "conn = boto.connect_s3(anon=True)\n",
    "fcp = conn.get_bucket('fcp-indi-new')"
   ]
  },
  {
   "cell_type": "code",
   "execution_count": 94,
   "metadata": {
    "collapsed": false
   },
   "outputs": [],
   "source": [
    "# Curated list of csv files containing phenotypic data on AWS\n",
    "projects = {'ABIDE_Initiative': ['data/Projects/ABIDE_Initiative/Phenotypic_V1_0b_preprocessed1.csv'],\n",
    "            'ACPI': ['data/Projects/ACPI/PhenotypicData/acpi_aggregated_phenotypic_data.csv'],\n",
    "            'ADHD200': ['data/Projects/ADHD200/RawData/Brown_TestRelease_phenotypic.csv',\n",
    "                        'data/Projects/ADHD200/RawData/KKI_phenotypic.csv',\n",
    "                        'data/Projects/ADHD200/RawData/NYU_phenotypic.csv',\n",
    "                        'data/Projects/ADHD200/RawData/OHSU_TestRelease_phenotypic.csv',\n",
    "                        'data/Projects/ADHD200/RawData/OHSU_phenotypic.csv',\n",
    "                        'data/Projects/ADHD200/RawData/Peking_1_TestRelease_phenotypic.csv',\n",
    "                        'data/Projects/ADHD200/RawData/Peking_1_phenotypic.csv',\n",
    "                        'data/Projects/ADHD200/RawData/Pittsburgh_phenotypic.csv'],\n",
    "            'CC_ME': [None], # no phenotypic data\n",
    "            'CORR': ['data/Projects/CORR/RawData/CoRR_AggregatedPhenotypicData.csv'],\n",
    "            'CPAC_Regression_Test': [None],\n",
    "            'HBNSS': ['data/Projects/HBNSS/PhenotypicData/cmi_hbnssi_pheno_data.csv'],\n",
    "            'INDI': ['data/Projects/INDI/HypnosisBarrios/RawData/participants.tsv',\n",
    "                     'data/Projects/INDI/SLIM/swu_slim_phenodata_time1.tsv',\n",
    "                     'data/Projects/INDI/SLIM/swu_slim_phenodata_time2.tsv',\n",
    "                     'data/Projects/INDI/SLIM/swu_slim_phenodata_time3.tsv'], # phenotypic data is tsv\n",
    "            'RocklandSample': ['data/Projects/RocklandSample/PhenotypicData/nki-rs_lite_r4_phenotypic_v1.csv',\n",
    "                               'data/Projects/RocklandSample/PhenotypicData/nki-rs_lite_r6_phenotypic_v1.csv',\n",
    "                               'data/Projects/RocklandSample/PhenotypicData/nki-rs_lite_r7_phenotypic_v1.csv',\n",
    "                               'data/Projects/RocklandSample/PhenotypicData/nki-rs_lite_r8_phenotypic_v1.csv']}"
   ]
  },
  {
   "cell_type": "code",
   "execution_count": 95,
   "metadata": {
    "collapsed": false
   },
   "outputs": [],
   "source": [
    "# Extract all the csv files.\n",
    "for k, v in projects.iteritems():\n",
    "    # Get all the key objects\n",
    "    keys = [fcp.get_key(i) for i in v]\n",
    "    # Create project directries\n",
    "    if not os.path.exists(k):\n",
    "        os.mkdir(k.lower())\n",
    "    # Download all the keys as csv\n",
    "    for key in keys:\n",
    "        if key:\n",
    "            fname = key.name.split('/')[-1]\n",
    "            fpath = os.path.join(os.path.abspath(k), fname)\n",
    "            key.get_contents_to_filename(fpath)"
   ]
  }
 ],
 "metadata": {
  "kernelspec": {
   "display_name": "Python 2",
   "language": "python",
   "name": "python2"
  },
  "language_info": {
   "codemirror_mode": {
    "name": "ipython",
    "version": 2
   },
   "file_extension": ".py",
   "mimetype": "text/x-python",
   "name": "python",
   "nbconvert_exporter": "python",
   "pygments_lexer": "ipython2",
   "version": "2.7.12"
  }
 },
 "nbformat": 4,
 "nbformat_minor": 0
}
