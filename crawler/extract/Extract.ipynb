{
 "cells": [
  {
   "cell_type": "markdown",
   "metadata": {},
   "source": [
    "# Extract Phenotypic Data From AWS S3\n",
    "This script accesses phenotypic data from a number of projects organized under the International Neuroimaging Data-sharing Initiative that are stored on AWS S3."
   ]
  },
  {
   "cell_type": "code",
   "execution_count": 1,
   "metadata": {
    "collapsed": false
   },
   "outputs": [
    {
     "name": "stdout",
     "output_type": "stream",
     "text": [
      "/Users/nicholsn/Repos/metasearch/crawler/extract\n"
     ]
    }
   ],
   "source": [
    "import os\n",
    "import boto\n",
    "conn = boto.connect_s3(anon=True)\n",
    "fcp = conn.get_bucket('fcp-indi-new')\n",
    "\n",
    "print(os.path.abspath(os.path.curdir))"
   ]
  },
  {
   "cell_type": "code",
   "execution_count": 2,
   "metadata": {
    "collapsed": false
   },
   "outputs": [],
   "source": [
    "# Curated list of csv files containing phenotypic data on AWS\n",
    "projects = {'ABIDE_Initiative': ['data/Projects/ABIDE_Initiative/Phenotypic_V1_0b_preprocessed1.csv'],\n",
    "            'ACPI': ['data/Projects/ACPI/PhenotypicData/acpi_aggregated_phenotypic_data.csv'],\n",
    "            'ADHD200': ['data/Projects/ADHD200/RawData/Brown_TestRelease_phenotypic.csv',\n",
    "                        'data/Projects/ADHD200/RawData/KKI_phenotypic.csv',\n",
    "                        'data/Projects/ADHD200/RawData/NYU_phenotypic.csv',\n",
    "                        'data/Projects/ADHD200/RawData/OHSU_TestRelease_phenotypic.csv',\n",
    "                        'data/Projects/ADHD200/RawData/OHSU_phenotypic.csv',\n",
    "                        'data/Projects/ADHD200/RawData/Peking_1_TestRelease_phenotypic.csv',\n",
    "                        'data/Projects/ADHD200/RawData/Peking_1_phenotypic.csv',\n",
    "                        'data/Projects/ADHD200/RawData/Pittsburgh_phenotypic.csv'],\n",
    "            'CC_ME': [None], # no phenotypic data\n",
    "            'CORR': ['data/Projects/CORR/RawData/CoRR_AggregatedPhenotypicData.csv'],\n",
    "            'CPAC_Regression_Test': [None],\n",
    "            'HBNSS': ['data/Projects/HBNSS/PhenotypicData/cmi_hbnssi_pheno_data.csv'],\n",
    "            'INDI': ['data/Projects/INDI/HypnosisBarrios/RawData/participants.tsv',\n",
    "                     'data/Projects/INDI/SLIM/swu_slim_phenodata_time1.tsv',\n",
    "                     'data/Projects/INDI/SLIM/swu_slim_phenodata_time2.tsv',\n",
    "                     'data/Projects/INDI/SLIM/swu_slim_phenodata_time3.tsv'], # phenotypic data is tsv\n",
    "            'RocklandSample': ['data/Projects/RocklandSample/PhenotypicData/nki-rs_lite_r4_phenotypic_v1.csv',\n",
    "                               'data/Projects/RocklandSample/PhenotypicData/nki-rs_lite_r6_phenotypic_v1.csv',\n",
    "                               'data/Projects/RocklandSample/PhenotypicData/nki-rs_lite_r7_phenotypic_v1.csv',\n",
    "                               'data/Projects/RocklandSample/PhenotypicData/nki-rs_lite_r8_phenotypic_v1.csv']}"
   ]
  },
  {
   "cell_type": "code",
   "execution_count": 3,
   "metadata": {
    "collapsed": false
   },
   "outputs": [
    {
     "name": "stdout",
     "output_type": "stream",
     "text": [
      "Files available at: /Users/nicholsn/Repos/metasearch/crawler/extract/RocklandSample/nki-rs_lite_r4_phenotypic_v1.csv\n",
      "Files available at: /Users/nicholsn/Repos/metasearch/crawler/extract/RocklandSample/nki-rs_lite_r6_phenotypic_v1.csv\n",
      "Files available at: /Users/nicholsn/Repos/metasearch/crawler/extract/RocklandSample/nki-rs_lite_r7_phenotypic_v1.csv\n",
      "Files available at: /Users/nicholsn/Repos/metasearch/crawler/extract/RocklandSample/nki-rs_lite_r8_phenotypic_v1.csv\n",
      "Files available at: /Users/nicholsn/Repos/metasearch/crawler/extract/ADHD200/Brown_TestRelease_phenotypic.csv\n",
      "Files available at: /Users/nicholsn/Repos/metasearch/crawler/extract/ADHD200/KKI_phenotypic.csv\n",
      "Files available at: /Users/nicholsn/Repos/metasearch/crawler/extract/ADHD200/NYU_phenotypic.csv\n",
      "Files available at: /Users/nicholsn/Repos/metasearch/crawler/extract/ADHD200/OHSU_TestRelease_phenotypic.csv\n",
      "Files available at: /Users/nicholsn/Repos/metasearch/crawler/extract/ADHD200/OHSU_phenotypic.csv\n",
      "Files available at: /Users/nicholsn/Repos/metasearch/crawler/extract/ADHD200/Peking_1_TestRelease_phenotypic.csv\n",
      "Files available at: /Users/nicholsn/Repos/metasearch/crawler/extract/ADHD200/Peking_1_phenotypic.csv\n",
      "Files available at: /Users/nicholsn/Repos/metasearch/crawler/extract/ADHD200/Pittsburgh_phenotypic.csv\n",
      "Files available at: /Users/nicholsn/Repos/metasearch/crawler/extract/CORR/CoRR_AggregatedPhenotypicData.csv\n",
      "Files available at: /Users/nicholsn/Repos/metasearch/crawler/extract/INDI/participants.tsv\n",
      "Files available at: /Users/nicholsn/Repos/metasearch/crawler/extract/INDI/swu_slim_phenodata_time1.tsv\n",
      "Files available at: /Users/nicholsn/Repos/metasearch/crawler/extract/INDI/swu_slim_phenodata_time2.tsv\n",
      "Files available at: /Users/nicholsn/Repos/metasearch/crawler/extract/INDI/swu_slim_phenodata_time3.tsv\n",
      "Files available at: /Users/nicholsn/Repos/metasearch/crawler/extract/ABIDE_Initiative/Phenotypic_V1_0b_preprocessed1.csv\n",
      "Files available at: /Users/nicholsn/Repos/metasearch/crawler/extract/ACPI/acpi_aggregated_phenotypic_data.csv\n",
      "Files available at: /Users/nicholsn/Repos/metasearch/crawler/extract/HBNSS/cmi_hbnssi_pheno_data.csv\n"
     ]
    }
   ],
   "source": [
    "# Extract all the csv files.\n",
    "for k, v in projects.iteritems():\n",
    "    # Get all the key objects\n",
    "    keys = [fcp.get_key(i) for i in v]\n",
    "    # Create project directries\n",
    "    if not os.path.exists(k):\n",
    "        os.mkdir(k.lower())\n",
    "    # Download all the keys as csv\n",
    "    for key in keys:\n",
    "        if key:\n",
    "            fname = key.name.split('/')[-1]\n",
    "            fpath = os.path.join(os.path.abspath(k), fname)\n",
    "            key.get_contents_to_filename(fpath)\n",
    "            print(\"Files available at: {}\".format(fpath))"
   ]
  },
  {
   "cell_type": "code",
   "execution_count": 4,
   "metadata": {
    "collapsed": false
   },
   "outputs": [
    {
     "name": "stdout",
     "output_type": "stream",
     "text": [
      "ADHD columns: ['ScanDir ID' 'Site' 'Gender' 'Age' 'Handedness' 'DX' 'Secondary Dx '\n",
      " 'ADHD Measure' 'ADHD Index' 'Inattentive' 'Hyper/Impulsive' 'IQ Measure'\n",
      " 'Verbal IQ' 'Performance IQ' 'Full2 IQ' 'Full4 IQ' 'Med Status'\n",
      " 'QC_Rest_1' 'QC_Rest_2' 'QC_Rest_3' 'QC_Rest_4' 'QC_Anatomical_1'\n",
      " 'QC_Anatomical_2']\n",
      "ABIDE columns: ['Unnamed: 0' 'Unnamed: 0.1' 'SUB_ID' 'X' 'subject' 'SITE_ID' 'FILE_ID'\n",
      " 'DX_GROUP' 'DSM_IV_TR' 'AGE_AT_SCAN' 'SEX' 'HANDEDNESS_CATEGORY'\n",
      " 'HANDEDNESS_SCORES' 'FIQ' 'VIQ' 'PIQ' 'FIQ_TEST_TYPE' 'VIQ_TEST_TYPE'\n",
      " 'PIQ_TEST_TYPE' 'ADI_R_SOCIAL_TOTAL_A' 'ADI_R_VERBAL_TOTAL_BV'\n",
      " 'ADI_RRB_TOTAL_C' 'ADI_R_ONSET_TOTAL_D' 'ADI_R_RSRCH_RELIABLE'\n",
      " 'ADOS_MODULE' 'ADOS_TOTAL' 'ADOS_COMM' 'ADOS_SOCIAL' 'ADOS_STEREO_BEHAV'\n",
      " 'ADOS_RSRCH_RELIABLE' 'ADOS_GOTHAM_SOCAFFECT' 'ADOS_GOTHAM_RRB'\n",
      " 'ADOS_GOTHAM_TOTAL' 'ADOS_GOTHAM_SEVERITY' 'SRS_VERSION' 'SRS_RAW_TOTAL'\n",
      " 'SRS_AWARENESS' 'SRS_COGNITION' 'SRS_COMMUNICATION' 'SRS_MOTIVATION'\n",
      " 'SRS_MANNERISMS' 'SCQ_TOTAL' 'AQ_TOTAL' 'COMORBIDITY' 'CURRENT_MED_STATUS'\n",
      " 'MEDICATION_NAME' 'OFF_STIMULANTS_AT_SCAN' 'VINELAND_RECEPTIVE_V_SCALED'\n",
      " 'VINELAND_EXPRESSIVE_V_SCALED' 'VINELAND_WRITTEN_V_SCALED'\n",
      " 'VINELAND_COMMUNICATION_STANDARD' 'VINELAND_PERSONAL_V_SCALED'\n",
      " 'VINELAND_DOMESTIC_V_SCALED' 'VINELAND_COMMUNITY_V_SCALED'\n",
      " 'VINELAND_DAILYLVNG_STANDARD' 'VINELAND_INTERPERSONAL_V_SCALED'\n",
      " 'VINELAND_PLAY_V_SCALED' 'VINELAND_COPING_V_SCALED'\n",
      " 'VINELAND_SOCIAL_STANDARD' 'VINELAND_SUM_SCORES' 'VINELAND_ABC_STANDARD'\n",
      " 'VINELAND_INFORMANT' 'WISC_IV_VCI' 'WISC_IV_PRI' 'WISC_IV_WMI'\n",
      " 'WISC_IV_PSI' 'WISC_IV_SIM_SCALED' 'WISC_IV_VOCAB_SCALED'\n",
      " 'WISC_IV_INFO_SCALED' 'WISC_IV_BLK_DSN_SCALED' 'WISC_IV_PIC_CON_SCALED'\n",
      " 'WISC_IV_MATRIX_SCALED' 'WISC_IV_DIGIT_SPAN_SCALED'\n",
      " 'WISC_IV_LET_NUM_SCALED' 'WISC_IV_CODING_SCALED' 'WISC_IV_SYM_SCALED'\n",
      " 'EYE_STATUS_AT_SCAN' 'AGE_AT_MPRAGE' 'BMI' 'anat_cnr' 'anat_efc'\n",
      " 'anat_fber' 'anat_fwhm' 'anat_qi1' 'anat_snr' 'func_efc' 'func_fber'\n",
      " 'func_fwhm' 'func_dvars' 'func_outlier' 'func_quality' 'func_mean_fd'\n",
      " 'func_num_fd' 'func_perc_fd' 'func_gsr' 'qc_rater_1' 'qc_notes_rater_1'\n",
      " 'qc_anat_rater_2' 'qc_anat_notes_rater_2' 'qc_func_rater_2'\n",
      " 'qc_func_notes_rater_2' 'qc_anat_rater_3' 'qc_anat_notes_rater_3'\n",
      " 'qc_func_rater_3' 'qc_func_notes_rater_3' 'SUB_IN_SMP']\n"
     ]
    }
   ],
   "source": [
    "# Explore File Contents\n",
    "import pandas as pd\n",
    "\n",
    "# Start with a concat of two files.\n",
    "adhd = pd.read_csv('/Users/nicholsn/Repos/metasearch/crawler/extract/ADHD200/NYU_phenotypic.csv')\n",
    "abide = pd.read_csv('/Users/nicholsn/Repos/metasearch/crawler/extract/ABIDE_Initiative/Phenotypic_V1_0b_preprocessed1.csv')\n",
    "\n",
    "print(\"ADHD columns: {}\".format(adhd.columns.values))\n",
    "print(\"ABIDE columns: {}\".format(abide.columns.values))"
   ]
  },
  {
   "cell_type": "code",
   "execution_count": 5,
   "metadata": {
    "collapsed": false
   },
   "outputs": [
    {
     "name": "stdout",
     "output_type": "stream",
     "text": [
      "ADHD Gender Representation: [  1.   0.  nan]\n",
      "ABIDE Sex Representation: [1 2]\n"
     ]
    }
   ],
   "source": [
    "# Check data representation for given data element.\n",
    "print(\"ADHD Gender Representation: {}\".format(adhd.Gender.unique()))\n",
    "print(\"ABIDE Sex Representation: {}\".format(abide.SEX.unique()))"
   ]
  },
  {
   "cell_type": "code",
   "execution_count": 6,
   "metadata": {
    "collapsed": false
   },
   "outputs": [
    {
     "data": {
      "text/html": [
       "'<iframe src=\"http://fcon_1000.projects.nitrc.org/indi/abide/ABIDE_LEGEND_V1.02.pdf\" width=\"1000\" height=\"700\">'"
      ],
      "text/plain": [
       "<IPython.core.display.HTML object>"
      ]
     },
     "metadata": {},
     "output_type": "display_data"
    }
   ],
   "source": [
    "%%HTML\n",
    "'<iframe src=\"http://fcon_1000.projects.nitrc.org/indi/abide/ABIDE_LEGEND_V1.02.pdf\" width=\"1000\" height=\"700\">'"
   ]
  },
  {
   "cell_type": "code",
   "execution_count": null,
   "metadata": {
    "collapsed": true
   },
   "outputs": [],
   "source": []
  }
 ],
 "metadata": {
  "kernelspec": {
   "display_name": "Python 2",
   "language": "python",
   "name": "python2"
  },
  "language_info": {
   "codemirror_mode": {
    "name": "ipython",
    "version": 2
   },
   "file_extension": ".py",
   "mimetype": "text/x-python",
   "name": "python",
   "nbconvert_exporter": "python",
   "pygments_lexer": "ipython2",
   "version": "2.7.12"
  }
 },
 "nbformat": 4,
 "nbformat_minor": 0
}
