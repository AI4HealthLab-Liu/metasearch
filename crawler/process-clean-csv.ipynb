{
 "cells": [
  {
   "cell_type": "code",
   "execution_count": 1,
   "metadata": {
    "collapsed": true
   },
   "outputs": [],
   "source": [
    "from glob import glob\n",
    "import os\n",
    "import pandas as pd"
   ]
  },
  {
   "cell_type": "code",
   "execution_count": 2,
   "metadata": {
    "collapsed": false
   },
   "outputs": [
    {
     "name": "stdout",
     "output_type": "stream",
     "text": [
      "ABIDE_Initiative-clean.csv  BrainGenomicsSuperstructProject-clean.csv\r\n",
      "ACPI-clean.csv              CORR-clean.csv\r\n",
      "ADHD200-clean.csv           HypnosisBarrios-clean.csv\r\n",
      "all.csv                     RocklandSample-clean.csv\r\n"
     ]
    }
   ],
   "source": [
    "ls clean-csv/"
   ]
  },
  {
   "cell_type": "code",
   "execution_count": 3,
   "metadata": {
    "collapsed": false
   },
   "outputs": [
    {
     "name": "stdout",
     "output_type": "stream",
     "text": [
      "(4797, 2)\n"
     ]
    },
    {
     "data": {
      "text/html": [
       "<div>\n",
       "<table border=\"1\" class=\"dataframe\">\n",
       "  <thead>\n",
       "    <tr style=\"text-align: right;\">\n",
       "      <th></th>\n",
       "      <th>T1url</th>\n",
       "      <th>id</th>\n",
       "    </tr>\n",
       "  </thead>\n",
       "  <tbody>\n",
       "    <tr>\n",
       "      <th>0</th>\n",
       "      <td>https://s3.amazonaws.com/fcp-indi/data/Project...</td>\n",
       "      <td>0028031</td>\n",
       "    </tr>\n",
       "    <tr>\n",
       "      <th>1</th>\n",
       "      <td>https://s3.amazonaws.com/fcp-indi/data/Project...</td>\n",
       "      <td>0028032</td>\n",
       "    </tr>\n",
       "    <tr>\n",
       "      <th>2</th>\n",
       "      <td>https://s3.amazonaws.com/fcp-indi/data/Project...</td>\n",
       "      <td>0028033</td>\n",
       "    </tr>\n",
       "    <tr>\n",
       "      <th>3</th>\n",
       "      <td>https://s3.amazonaws.com/fcp-indi/data/Project...</td>\n",
       "      <td>0028034</td>\n",
       "    </tr>\n",
       "    <tr>\n",
       "      <th>4</th>\n",
       "      <td>https://s3.amazonaws.com/fcp-indi/data/Project...</td>\n",
       "      <td>0028035</td>\n",
       "    </tr>\n",
       "  </tbody>\n",
       "</table>\n",
       "</div>"
      ],
      "text/plain": [
       "                                               T1url       id\n",
       "0  https://s3.amazonaws.com/fcp-indi/data/Project...  0028031\n",
       "1  https://s3.amazonaws.com/fcp-indi/data/Project...  0028032\n",
       "2  https://s3.amazonaws.com/fcp-indi/data/Project...  0028033\n",
       "3  https://s3.amazonaws.com/fcp-indi/data/Project...  0028034\n",
       "4  https://s3.amazonaws.com/fcp-indi/data/Project...  0028035"
      ]
     },
     "execution_count": 3,
     "metadata": {},
     "output_type": "execute_result"
    }
   ],
   "source": [
    "csv_df = pd.concat([pd.read_csv(val, header=None, \n",
    "                                names=['T1url', 'id'], \n",
    "                                dtype=str) \n",
    "                    for val in sorted(glob('clean-csv/*clean.csv')) if not \n",
    "                    any([key in val.lower() for key in ['abide', 'brain'] ])])\n",
    "print(csv_df.shape)\n",
    "csv_df.to_csv('clean-csv/all.csv', index=False)\n",
    "csv_df.head()"
   ]
  },
  {
   "cell_type": "code",
   "execution_count": 4,
   "metadata": {
    "collapsed": false
   },
   "outputs": [
    {
     "data": {
      "text/plain": [
       "['https://s3.amazonaws.com/fcp-indi/data/Projects/ACPI/RawData/uci_1/0028031/session_1/anat_1/anat.nii.gz',\n",
       " 'https://s3.amazonaws.com/fcp-indi/data/Projects/ACPI/RawData/uci_1/0028032/session_1/anat_1/anat.nii.gz',\n",
       " 'https://s3.amazonaws.com/fcp-indi/data/Projects/ACPI/RawData/uci_1/0028033/session_1/anat_1/anat.nii.gz']"
      ]
     },
     "execution_count": 4,
     "metadata": {},
     "output_type": "execute_result"
    }
   ],
   "source": [
    "pd.read_csv('clean-csv/all.csv').T1url[[0, 1, 2]].values.tolist()"
   ]
  },
  {
   "cell_type": "code",
   "execution_count": 5,
   "metadata": {
    "collapsed": false
   },
   "outputs": [],
   "source": [
    "def process_urls(indices):\n",
    "    import os\n",
    "    import urllib.request\n",
    "    import shutil\n",
    "    import pandas as pd\n",
    "    from subprocess import run, PIPE\n",
    "    from nipype.interfaces.afni import SkullStrip\n",
    "    from nipype.interfaces.fsl import BET\n",
    "    \n",
    "    df = pd.read_csv('/om/user/satra/projects/metasearch/crawler/clean-csv/all.csv')\n",
    "    if isinstance(indices, list):\n",
    "        urls = df.T1url[indices].values.tolist()\n",
    "    else:\n",
    "        urls = [df.T1url[indices]]\n",
    "    print(urls)\n",
    "    with open('/om/user/satra/projects/metasearch/crawler/token', 'rt') as fp:\n",
    "        token = fp.readlines()[0].strip()\n",
    "\n",
    "    def upload(url, atlas_name, project_name, atlas_label, tmp_aseg, token):\n",
    "        # upload\n",
    "        payload = {'url': url,\n",
    "               'atlasName': atlas_name,\n",
    "               'atlasProject': project_name,\n",
    "               'atlasLabelSet': atlas_label,\n",
    "               'atlas': '@{}'.format(tmp_aseg),\n",
    "               'token': token}\n",
    "        post_url = 'http://brainbox.pasteur.fr/mri/upload'\n",
    "        payload['post_url'] = post_url\n",
    "        curl_cmd = ('curl -F url={url} -F atlasName={atlasName} -F atlasProject={atlasProject} ' \n",
    "                    '-F atlasLabelSet={atlasLabelSet} -F atlas={atlas} -F token={token} ' \n",
    "                    '{post_url}').format(**payload)\n",
    "        print(curl_cmd)\n",
    "        cproc = run(curl_cmd, shell=True, check=True, stdout=PIPE, stderr=PIPE)\n",
    "        print('stdout:', cproc.stdout.decode())\n",
    "        print('stdout:', cproc.stderr.decode())\n",
    "        return curl_cmd, cproc\n",
    "    out = []\n",
    "    for url in urls:\n",
    "        print(url)\n",
    "        project_name=url.split('/')[6]\n",
    "        if project_name == 'INDI':\n",
    "            project_name = 'HypnosisBarrios'\n",
    "        if 't1.mgz' in url.lower():\n",
    "            download_url = url.replace('T1.mgz', 'aseg.mgz')\n",
    "            file_name = os.path.join(os.getcwd(), 'aseg.mgz')\n",
    "        else:\n",
    "            download_url = url\n",
    "            file_name = os.path.join(os.getcwd(), url.split('/')[-1])\n",
    "        # Download the file from `url` and save it locally under `file_name`:\n",
    "        with urllib.request.urlopen(download_url) as response, open(file_name, 'wb') as out_file:\n",
    "            shutil.copyfileobj(response, out_file)\n",
    "\n",
    "        tmp_aseg = 'aseg.mgz'\n",
    "        atlas_name = 'aseg'\n",
    "        atlas_label = 'freesurfer.json'\n",
    "        if 'aseg.mgz' not in file_name:\n",
    "            skullstrip = SkullStrip(in_file=file_name,\n",
    "                                    args='-use_edge', \n",
    "                                    outputtype='NIFTI_GZ',\n",
    "                                    out_file='aseg.nii.gz')\n",
    "            tmp_aseg = 'aseg.nii.gz'\n",
    "            #skullstrip = BET(in_file=file_name,\n",
    "            #                 output_type='NIFTI_GZ',\n",
    "            #                 mask=True)\n",
    "            res = skullstrip.run()\n",
    "            #tmp_aseg = res.outputs.mask_file\n",
    "            import nibabel as nb\n",
    "            import numpy as np\n",
    "            img = nb.load(tmp_aseg)\n",
    "            data = img.get_data()\n",
    "            data = (data > 0).astype(np.uint8)\n",
    "            img.set_data_dtype(np.uint8)\n",
    "            nb.Nifti1Image(data, img.affine, img.header).to_filename('aseg.nii.gz')\n",
    "            tmp_aseg = 'aseg.nii.gz'\n",
    "            atlas_name = 'brainmask'\n",
    "            atlas_label = 'cerebrum.json'\n",
    "        curl_cmd, cproc = upload(url, atlas_name, project_name, atlas_label, tmp_aseg, token)\n",
    "        out.append([curl_cmd, cproc.stdout, cproc.stderr])\n",
    "\n",
    "        if 'aseg.mgz' in file_name:\n",
    "            import nibabel as nb\n",
    "            import numpy as np\n",
    "            img = nb.load(file_name)\n",
    "            data = img.get_data()\n",
    "            data = (data > 0).astype(np.uint8)\n",
    "            img.set_data_dtype(np.uint8)\n",
    "            nb.Nifti1Image(data, img.affine, img.header).to_filename('aseg.nii.gz')\n",
    "            tmp_aseg = 'aseg.nii.gz'\n",
    "            atlas_name = 'brainmask'\n",
    "            atlas_label = 'cerebrum.json'\n",
    "            curl_cmd, cproc = upload(url, atlas_name, project_name, atlas_label, tmp_aseg, token)\n",
    "            out.append([curl_cmd, cproc.stdout, cproc.stderr])\n",
    "            \n",
    "        if isinstance(indices, list):\n",
    "            os.unlink(tmp_aseg)\n",
    "            if os.path.exists(file_name):\n",
    "                os.unlink(file_name)\n",
    "    return out"
   ]
  },
  {
   "cell_type": "code",
   "execution_count": 8,
   "metadata": {
    "collapsed": false,
    "scrolled": true
   },
   "outputs": [
    {
     "name": "stdout",
     "output_type": "stream",
     "text": [
      "161116-16:52:01,502 workflow INFO:\n",
      "\t Workflow process_url settings: ['check', 'execution', 'logging']\n",
      "161116-16:52:01,557 workflow INFO:\n",
      "\t Running serially.\n",
      "161116-16:52:01,559 workflow INFO:\n",
      "\t Executing node process_urls.aI.a0 in dir: /om/scratch/Mon/satra/process_url/_indices_2481/process_urls\n",
      "['https://s3.amazonaws.com/fcp-indi/data/Projects/CORR/RawData/JHNU/0025605/session_1/anat_1/anat.nii.gz']\n",
      "https://s3.amazonaws.com/fcp-indi/data/Projects/CORR/RawData/JHNU/0025605/session_1/anat_1/anat.nii.gz\n",
      "161116-16:52:03,300 interface WARNING:\n",
      "\t AFNI is outdated, detected version AFNI_16.3.08 and AFNI_16.3.09 is available.\n",
      "161116-16:52:03,548 interface WARNING:\n",
      "\t AFNI is outdated, detected version AFNI_16.3.08 and AFNI_16.3.09 is available.\n",
      "161116-16:53:44,891 interface INFO:\n",
      "\t stderr 2016-11-16T16:53:44.890857:The intensity in the output dataset is a modified version\n",
      "161116-16:53:44,893 interface INFO:\n",
      "\t stderr 2016-11-16T16:53:44.890857:of the intensity in the input volume.\n",
      "161116-16:53:44,895 interface INFO:\n",
      "\t stderr 2016-11-16T16:53:44.890857:To obtain a masked version of the input with identical values inside\n",
      "161116-16:53:44,897 interface INFO:\n",
      "\t stderr 2016-11-16T16:53:44.890857:the brain, you can either use 3dSkullStrip's -orig_vol option\n",
      "161116-16:53:44,899 interface INFO:\n",
      "\t stderr 2016-11-16T16:53:44.890857:or run the following command:\n",
      "161116-16:53:44,902 interface INFO:\n",
      "\t stderr 2016-11-16T16:53:44.890857:  3dcalc -a /om/scratch/Mon/satra/process_url/_indices_2481/process_urls/anat.nii.gz -b ./aseg.nii.gz+orig -expr 'a*step(b)' \\\n",
      "161116-16:53:44,904 interface INFO:\n",
      "\t stderr 2016-11-16T16:53:44.890857:         -prefix ./aseg.nii.gz_orig_vol\n",
      "161116-16:53:44,905 interface INFO:\n",
      "\t stderr 2016-11-16T16:53:44.890857:to generate a new masked version of the input.\n",
      "curl -F url=https://s3.amazonaws.com/fcp-indi/data/Projects/CORR/RawData/JHNU/0025605/session_1/anat_1/anat.nii.gz -F atlasName=brainmask -F atlasProject=CORR -F atlasLabelSet=cerebrum.json -F atlas=@aseg.nii.gz -F token=4f4qluh341iz4cxrmnhr94hv2llhm2t9 http://brainbox.pasteur.fr/mri/upload\n",
      "stdout: {\"filename\":\"anat.nii.gz\",\"source\":\"https://s3.amazonaws.com/fcp-indi/data/Projects/CORR/RawData/JHNU/0025605/session_1/anat_1/anat.nii.gz\",\"url\":\"/data/f6f17ce90123b936b46ae1c98e82c3c8/\",\"included\":\"2016-11-07T23:23:40.053Z\",\"owner\":\"satra\",\"mri\":{\"brain\":\"anat.nii.gz\",\"atlas\":[{\"owner\":\"satra\",\"created\":\"2016-11-07T23:23:40.053Z\",\"modified\":\"2016-11-07T23:23:40.053Z\",\"type\":\"volume\",\"filename\":\"Atlas.nii.gz\",\"labels\":\"foreground.json\"},{\"name\":\"brainmask\",\"project\":\"CORR\",\"access\":\"edit\",\"created\":\"2016-11-16T21:53:31.546Z\",\"modified\":\"2016-11-16T21:53:31.546Z\",\"filename\":\"w9jlmmld7pzdj9k9.nii.gz\",\"originalname\":\"aseg.nii.gz\",\"labels\":\"cerebrum.json\",\"owner\":\"satra\",\"type\":\"volume\"}]},\"modified\":\"2016-11-07T23:23:40.053Z\",\"modifiedBy\":\"satra\",\"name\":\"0025605\"}\n",
      "stdout:   % Total    % Received % Xferd  Average Speed   Time    Time     Time  Current\n",
      "                                 Dload  Upload   Total   Spent    Left  Speed\n",
      "100  171k  100   772  100  171k    232  52792  0:00:03  0:00:03 --:--:-- 52809\n",
      "\n"
     ]
    }
   ],
   "source": [
    "from nipype import Workflow, Node, Function\n",
    "\n",
    "wf = Workflow('process_url')\n",
    "processor = Node(Function(input_names=['indices'],\n",
    "                         output_names=['cmd'],\n",
    "                         function=process_urls),\n",
    "                name='process_urls')\n",
    "processor.iterables = ('indices', [2481]) #range(csv_df.shape[0]))\n",
    "wf.add_nodes([processor])\n",
    "wf.base_dir = '/om/scratch/Mon/satra/'\n",
    "wf.config['execution']['poll_sleep_duration'] = 10\n",
    "wf.config['execution']['remove_unnecessary_outputs'] = False\n",
    "if True:\n",
    "    wf.run()\n",
    "else:\n",
    "    wf.run('SLURM', plugin_args={'sbatch_args': '-p om_interactive -N1 -c2 --mem=2G', \n",
    "                             'max_jobs':60})"
   ]
  },
  {
   "cell_type": "code",
   "execution_count": 14,
   "metadata": {
    "collapsed": false
   },
   "outputs": [
    {
     "data": {
      "text/plain": [
       "array(['ACPI', 'ADHD200', 'CORR', 'INDI', 'RocklandSample'], \n",
       "      dtype='<U14')"
      ]
     },
     "execution_count": 14,
     "metadata": {},
     "output_type": "execute_result"
    }
   ],
   "source": [
    "pd.np.unique([val.split('/')[6] for val in csv_df.T1url])"
   ]
  },
  {
   "cell_type": "code",
   "execution_count": 8,
   "metadata": {
    "collapsed": false
   },
   "outputs": [
    {
     "name": "stdout",
     "output_type": "stream",
     "text": [
      "129 https://s3.amazonaws.com/fcp-indi/data/Projects/ADHD200/surfaces/freesurfer/5.3/0010001/mri/T1.mgz\n"
     ]
    }
   ],
   "source": [
    "for idx, val in enumerate(csv_df.T1url):\n",
    "    if 'T1.mgz' in val:\n",
    "        print(idx, val)\n",
    "        break"
   ]
  },
  {
   "cell_type": "code",
   "execution_count": null,
   "metadata": {
    "collapsed": true
   },
   "outputs": [],
   "source": []
  }
 ],
 "metadata": {
  "anaconda-cloud": {},
  "kernelspec": {
   "display_name": "Python 2",
   "language": "python",
   "name": "python2"
  },
  "language_info": {
   "codemirror_mode": {
    "name": "ipython",
    "version": 2
   },
   "file_extension": ".py",
   "mimetype": "text/x-python",
   "name": "python",
   "nbconvert_exporter": "python",
   "pygments_lexer": "ipython2",
   "version": "2.7.12"
  }
 },
 "nbformat": 4,
 "nbformat_minor": 1
}
