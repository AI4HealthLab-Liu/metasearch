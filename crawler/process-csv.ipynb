{
 "cells": [
  {
   "cell_type": "code",
   "execution_count": 1,
   "metadata": {
    "collapsed": false
   },
   "outputs": [],
   "source": [
    "from glob import glob\n",
    "import os\n",
    "import pandas as pd\n",
    "\n",
    "import requests\n",
    "import parse"
   ]
  },
  {
   "cell_type": "code",
   "execution_count": 3,
   "metadata": {
    "collapsed": false
   },
   "outputs": [
    {
     "name": "stdout",
     "output_type": "stream",
     "text": [
      "\u001b[36mclean-csv\u001b[m\u001b[m/               fcp-indi.gz              process-csv.ipynb\r\n",
      "\u001b[36mexample_repository\u001b[m\u001b[m/      fcp-info.ipynb           \u001b[36mtransform\u001b[m\u001b[m/\r\n",
      "\u001b[36mfcp-indi\u001b[m\u001b[m/                \u001b[36mload\u001b[m\u001b[m/\r\n",
      "fcp-indi-new.gz          process-clean-csv.ipynb\r\n"
     ]
    }
   ],
   "source": [
    "ls"
   ]
  },
  {
   "cell_type": "code",
   "execution_count": 8,
   "metadata": {
    "collapsed": false
   },
   "outputs": [
    {
     "data": {
      "text/plain": [
       "['ACPI.csv',\n",
       " 'ADHD200.csv',\n",
       " 'CORR.csv',\n",
       " 'HypnosisBarrios.csv',\n",
       " 'RocklandSample.csv']"
      ]
     },
     "execution_count": 8,
     "metadata": {},
     "output_type": "execute_result"
    }
   ],
   "source": [
    "csv_files = [val for val in sorted(glob('*.csv')) if not any([key in val for key in \n",
    "                                                              ['clean', 'Brain', 'ABIDE']])]\n",
    "csv_files"
   ]
  },
  {
   "cell_type": "code",
   "execution_count": 4,
   "metadata": {
    "collapsed": false
   },
   "outputs": [],
   "source": [
    "def process_csv(filename):\n",
    "    #filename = csv_files[0]\n",
    "    df = pd.read_csv(filename, header=None, names=['url', 'id'], dtype=str)\n",
    "    print(filename, df.shape)\n",
    "    info = []\n",
    "    for grp in df.groupby('id'):\n",
    "        T1 = [val for val in grp[1].url.values if 'T1.mgz' in val]\n",
    "        if T1:\n",
    "            for T1_val in T1:\n",
    "                annot = T1_val.replace('T1.mgz', 'aseg.mgz')\n",
    "                this_info = dict(url=T1_val, annot=annot, id=grp[0])\n",
    "                info.append(this_info)\n",
    "        else:\n",
    "            for val in grp[1].url.values:\n",
    "                this_info = dict(url=val, annot=pd.np.nan, id=grp[0])\n",
    "                info.append(this_info)\n",
    "    new_df = pd.DataFrame(info)\n",
    "    return new_df"
   ]
  },
  {
   "cell_type": "code",
   "execution_count": 9,
   "metadata": {
    "collapsed": false
   },
   "outputs": [
    {
     "name": "stdout",
     "output_type": "stream",
     "text": [
      "ACPI.csv (129, 2)\n",
      "ACPI-clean.csv (129, 3)\n",
      "ADHD200.csv (1927, 2)\n",
      "ADHD200-clean.csv (973, 3)\n",
      "CORR.csv (3203, 2)\n",
      "CORR-clean.csv (3153, 3)\n",
      "HypnosisBarrios.csv (10, 2)\n",
      "HypnosisBarrios-clean.csv (10, 3)\n",
      "RocklandSample.csv (532, 2)\n",
      "RocklandSample-clean.csv (532, 3)\n"
     ]
    },
    {
     "data": {
      "text/plain": [
       "(4797, 3)"
      ]
     },
     "execution_count": 9,
     "metadata": {},
     "output_type": "execute_result"
    }
   ],
   "source": [
    "all_df = []\n",
    "for filename in csv_files:\n",
    "    new_df = process_csv(filename)\n",
    "    new_filename = filename.replace('.csv', '-clean.csv')\n",
    "    new_df[['url', 'id']].to_csv(new_filename, header=False, index=False)\n",
    "    print(new_filename, new_df.shape)\n",
    "    all_df.append(new_df)\n",
    "all_df = pd.concat(all_df)\n",
    "all_df.shape"
   ]
  },
  {
   "cell_type": "code",
   "execution_count": 106,
   "metadata": {
    "collapsed": false
   },
   "outputs": [],
   "source": [
    "csv = pd.read_csv('clean-csv/all.csv', dtype=str)"
   ]
  },
  {
   "cell_type": "code",
   "execution_count": 107,
   "metadata": {
    "collapsed": false
   },
   "outputs": [],
   "source": [
    "patterns = ['data/Projects/{study}/RawData/{site}/{subj_id}/session_{session_id}/anat_{anat_id}/mprage.nii.gz',\n",
    "            'data/Projects/{study}/Outputs/freesurfer/5.1/{site}_{site_suffix}_{subj_id}/mri/T1.mgz',\n",
    "            'data/Projects/{study}/Outputs/freesurfer/5.1/{site}_{subj_id}/mri/T1.mgz',\n",
    "            'data/Projects/{study}/surfaces/freesurfer/5.3/{subj_id}/mri/T1.mgz',\n",
    "            'data/Projects/{study}/Outputs/IBA_TRT/freesurfer_gpu/{subj_id}-session_{session_id}/mri/T1.mgz',\n",
    "            'data/Projects/{study}/Outputs/IBA_TRT/freesurfer/{subj_id}-session_{session_id}/mri/T1.mgz',\n",
    "            'data/Projects/{study}/RawData/{site}/{subj_id}/session_{session_id}/anat_{anat_id}/anat.nii.gz',\n",
    "            'data/Projects/{study:w}/sub-{subj_id}/ses-{session_id}/anat/sub-{subj_id}_ses-{session_id}_T1w.nii.gz',\n",
    "            'data/Projects/{study:w}/RawData/{subj_id}/{session_id}/{deface_id}/{deface_id2}_defaced.nii.gz',\n",
    "            'data/Projects/INDI/{study}/RawData/sub-{subj_id}/anat/sub-{subj_id}_T1w.nii.gz',\n",
    "           ]\n"
   ]
  },
  {
   "cell_type": "code",
   "execution_count": 108,
   "metadata": {
    "collapsed": false
   },
   "outputs": [
    {
     "data": {
      "text/html": [
       "<div>\n",
       "<table border=\"1\" class=\"dataframe\">\n",
       "  <thead>\n",
       "    <tr style=\"text-align: right;\">\n",
       "      <th></th>\n",
       "      <th>T1url</th>\n",
       "      <th>id</th>\n",
       "      <th>project</th>\n",
       "    </tr>\n",
       "  </thead>\n",
       "  <tbody>\n",
       "    <tr>\n",
       "      <th>0</th>\n",
       "      <td>https://s3.amazonaws.com/fcp-indi/data/Project...</td>\n",
       "      <td>0028031</td>\n",
       "      <td>acpi</td>\n",
       "    </tr>\n",
       "    <tr>\n",
       "      <th>1</th>\n",
       "      <td>https://s3.amazonaws.com/fcp-indi/data/Project...</td>\n",
       "      <td>0028032</td>\n",
       "      <td>acpi</td>\n",
       "    </tr>\n",
       "    <tr>\n",
       "      <th>2</th>\n",
       "      <td>https://s3.amazonaws.com/fcp-indi/data/Project...</td>\n",
       "      <td>0028033</td>\n",
       "      <td>acpi</td>\n",
       "    </tr>\n",
       "    <tr>\n",
       "      <th>3</th>\n",
       "      <td>https://s3.amazonaws.com/fcp-indi/data/Project...</td>\n",
       "      <td>0028034</td>\n",
       "      <td>acpi</td>\n",
       "    </tr>\n",
       "    <tr>\n",
       "      <th>4</th>\n",
       "      <td>https://s3.amazonaws.com/fcp-indi/data/Project...</td>\n",
       "      <td>0028035</td>\n",
       "      <td>acpi</td>\n",
       "    </tr>\n",
       "  </tbody>\n",
       "</table>\n",
       "</div>"
      ],
      "text/plain": [
       "                                               T1url       id project\n",
       "0  https://s3.amazonaws.com/fcp-indi/data/Project...  0028031    acpi\n",
       "1  https://s3.amazonaws.com/fcp-indi/data/Project...  0028032    acpi\n",
       "2  https://s3.amazonaws.com/fcp-indi/data/Project...  0028033    acpi\n",
       "3  https://s3.amazonaws.com/fcp-indi/data/Project...  0028034    acpi\n",
       "4  https://s3.amazonaws.com/fcp-indi/data/Project...  0028035    acpi"
      ]
     },
     "execution_count": 108,
     "metadata": {},
     "output_type": "execute_result"
    }
   ],
   "source": [
    "project_id = \"https://s3.amazonaws.com/fcp-indi/data/Projects/{project_id}/{frag}\" \n",
    "def get_project(string):\n",
    "    parsed = parse.parse(project_id, string)\n",
    "    return parsed.named.get('project_id').lower()\n",
    "csv['project'] = csv.T1url.apply(get_project)\n",
    "csv.head()"
   ]
  },
  {
   "cell_type": "code",
   "execution_count": 109,
   "metadata": {
    "collapsed": false
   },
   "outputs": [],
   "source": [
    "url_patterns = [\"https://s3.amazonaws.com/fcp-indi/\" + pattern for pattern in patterns]"
   ]
  },
  {
   "cell_type": "code",
   "execution_count": 110,
   "metadata": {
    "collapsed": false
   },
   "outputs": [],
   "source": [
    "def get_session(url):\n",
    "    result = None\n",
    "    for pattern in url_patterns:\n",
    "        parsed = parse.parse(pattern, url)\n",
    "        if parsed:\n",
    "            result = parsed.named.get('session_id')\n",
    "    if result:\n",
    "        return result\n",
    "    else:\n",
    "        return '1'"
   ]
  },
  {
   "cell_type": "code",
   "execution_count": 111,
   "metadata": {
    "collapsed": false
   },
   "outputs": [
    {
     "data": {
      "text/plain": [
       "array(['1', '2', '3', '10', '4', '5', '6', '7', '8', '9', 'clg_4',\n",
       "       'clg_4R', 'dsc_2', 'nfb_3', 'nfb_2', 'clg_2R', 'clg_2'], dtype=object)"
      ]
     },
     "execution_count": 111,
     "metadata": {},
     "output_type": "execute_result"
    }
   ],
   "source": [
    "sessions = csv.T1url.apply(get_session)\n",
    "sessions.unique()"
   ]
  },
  {
   "cell_type": "code",
   "execution_count": 112,
   "metadata": {
    "collapsed": false
   },
   "outputs": [],
   "source": [
    "csv['session_id'] = sessions"
   ]
  },
  {
   "cell_type": "code",
   "execution_count": 97,
   "metadata": {
    "collapsed": false
   },
   "outputs": [],
   "source": [
    "ids = csv.groupby(by=['project', 'id'])"
   ]
  },
  {
   "cell_type": "code",
   "execution_count": 131,
   "metadata": {
    "collapsed": false
   },
   "outputs": [],
   "source": [
    "count = ids.session_id.count()\n",
    "count_series = pd.Series()"
   ]
  },
  {
   "cell_type": "code",
   "execution_count": 132,
   "metadata": {
    "collapsed": false
   },
   "outputs": [],
   "source": [
    "for idx, row in csv.iterrows():\n",
    "     count_series.loc[idx] = count.get((row.project, row.id))"
   ]
  },
  {
   "cell_type": "code",
   "execution_count": 135,
   "metadata": {
    "collapsed": false
   },
   "outputs": [],
   "source": [
    "csv['session_count'] = count_series"
   ]
  },
  {
   "cell_type": "code",
   "execution_count": 138,
   "metadata": {
    "collapsed": false
   },
   "outputs": [],
   "source": [
    "csv.columns = ['t1_url', 'participant_id', 'project', 'session_id', 'session_count']"
   ]
  },
  {
   "cell_type": "code",
   "execution_count": 139,
   "metadata": {
    "collapsed": true
   },
   "outputs": [],
   "source": [
    "csv.to_csv('clean-csv/all-session.csv', index=None)"
   ]
  },
  {
   "cell_type": "code",
   "execution_count": null,
   "metadata": {
    "collapsed": true
   },
   "outputs": [],
   "source": []
  }
 ],
 "metadata": {
  "anaconda-cloud": {},
  "kernelspec": {
   "display_name": "Python 2",
   "language": "python",
   "name": "python2"
  },
  "language_info": {
   "codemirror_mode": {
    "name": "ipython",
    "version": 2
   },
   "file_extension": ".py",
   "mimetype": "text/x-python",
   "name": "python",
   "nbconvert_exporter": "python",
   "pygments_lexer": "ipython2",
   "version": "2.7.12"
  }
 },
 "nbformat": 4,
 "nbformat_minor": 1
}
