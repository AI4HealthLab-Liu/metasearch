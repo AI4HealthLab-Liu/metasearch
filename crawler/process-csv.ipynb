{
 "cells": [
  {
   "cell_type": "code",
   "execution_count": 1,
   "metadata": {
    "collapsed": false
   },
   "outputs": [],
   "source": [
    "from glob import glob\n",
    "import os\n",
    "import pandas as pd\n",
    "\n",
    "import requests\n",
    "import parse"
   ]
  },
  {
   "cell_type": "code",
   "execution_count": 2,
   "metadata": {
    "collapsed": false
   },
   "outputs": [
    {
     "name": "stdout",
     "output_type": "stream",
     "text": [
      "Load.ipynb               \u001b[34mfcp-indi\u001b[m\u001b[m/                process-clean-csv.ipynb\r\n",
      "\u001b[34mbrain-development\u001b[m\u001b[m/       fcp-indi.gz              process-csv.ipynb\r\n",
      "\u001b[34mclean-csv\u001b[m\u001b[m/               fcp-info.ipynb           transform.ipynb\r\n",
      "\u001b[34mdataverse\u001b[m\u001b[m/               ixi-crawl.ipynb\r\n",
      "\u001b[34mexample_repository\u001b[m\u001b[m/      \u001b[34mmetadata\u001b[m\u001b[m/\r\n"
     ]
    }
   ],
   "source": [
    "ls"
   ]
  },
  {
   "cell_type": "code",
   "execution_count": 3,
   "metadata": {
    "collapsed": false
   },
   "outputs": [
    {
     "data": {
      "text/plain": [
       "['/software/data/brainbox/metasearch/crawler/clean-csv/ABIDE_Initiative-clean.csv',\n",
       " '/software/data/brainbox/metasearch/crawler/clean-csv/ACPI-clean.csv',\n",
       " '/software/data/brainbox/metasearch/crawler/clean-csv/ADHD200-clean.csv',\n",
       " '/software/data/brainbox/metasearch/crawler/clean-csv/BrainGenomicsSuperstructProject-clean.csv',\n",
       " '/software/data/brainbox/metasearch/crawler/clean-csv/CORR-clean.csv',\n",
       " '/software/data/brainbox/metasearch/crawler/clean-csv/HypnosisBarrios-clean.csv',\n",
       " '/software/data/brainbox/metasearch/crawler/clean-csv/IXI-clean.csv',\n",
       " '/software/data/brainbox/metasearch/crawler/clean-csv/RocklandSample-clean.csv']"
      ]
     },
     "execution_count": 3,
     "metadata": {},
     "output_type": "execute_result"
    }
   ],
   "source": [
    "csv_files = [os.path.abspath(val) for val in sorted(glob('clean-csv/*-clean.csv'))] \n",
    "#if not any([key in val for key in ['clean', 'Brain', 'ABIDE']])]\n",
    "csv_files"
   ]
  },
  {
   "cell_type": "code",
   "execution_count": 4,
   "metadata": {
    "collapsed": false
   },
   "outputs": [],
   "source": [
    "def process_csv(filename):\n",
    "    #filename = csv_files[0]\n",
    "    df = pd.read_csv(filename, header=None, names=['url', 'id'])\n",
    "    df['id'] = df.id.apply(str)\n",
    "    print(filename, df.shape)\n",
    "    info = []\n",
    "    for grp in df.groupby('id'):\n",
    "        T1 = [val for val in grp[1].url.values if 'T1.mgz' in val]\n",
    "        if T1:\n",
    "            for T1_val in T1:\n",
    "                annot = T1_val.replace('T1.mgz', 'aseg.mgz')\n",
    "                this_info = dict(url=T1_val, annot=annot, id=grp[0])\n",
    "                info.append(this_info)\n",
    "        else:\n",
    "            for val in grp[1].url.values:\n",
    "                if 'BrainGenomicsSuperstructProject/sub' in val:\n",
    "                    val = val.replace('BrainGenomicsSuperstructProject/sub',\n",
    "                                      'BrainGenomicsSuperstructProject/orig_bids/sub')\n",
    "                this_info = dict(url=val, annot=pd.np.nan, id=grp[0])\n",
    "                info.append(this_info)\n",
    "    new_df = pd.DataFrame(info)\n",
    "    return new_df"
   ]
  },
  {
   "cell_type": "code",
   "execution_count": 5,
   "metadata": {
    "collapsed": false
   },
   "outputs": [
    {
     "name": "stdout",
     "output_type": "stream",
     "text": [
      "/software/data/brainbox/metasearch/crawler/clean-csv/ABIDE_Initiative-clean.csv (1112, 2)\n",
      "/software/data/brainbox/metasearch/crawler/clean-csv/ABIDE_Initiative-clean.csv (1112, 3)\n",
      "/software/data/brainbox/metasearch/crawler/clean-csv/ACPI-clean.csv (129, 2)\n",
      "/software/data/brainbox/metasearch/crawler/clean-csv/ACPI-clean.csv (129, 3)\n",
      "/software/data/brainbox/metasearch/crawler/clean-csv/ADHD200-clean.csv (973, 2)\n",
      "/software/data/brainbox/metasearch/crawler/clean-csv/ADHD200-clean.csv (973, 3)\n",
      "/software/data/brainbox/metasearch/crawler/clean-csv/BrainGenomicsSuperstructProject-clean.csv (1570, 2)\n",
      "/software/data/brainbox/metasearch/crawler/clean-csv/BrainGenomicsSuperstructProject-clean.csv (1570, 3)\n",
      "/software/data/brainbox/metasearch/crawler/clean-csv/CORR-clean.csv (3153, 2)\n",
      "/software/data/brainbox/metasearch/crawler/clean-csv/CORR-clean.csv (3153, 3)\n",
      "/software/data/brainbox/metasearch/crawler/clean-csv/HypnosisBarrios-clean.csv (10, 2)\n",
      "/software/data/brainbox/metasearch/crawler/clean-csv/HypnosisBarrios-clean.csv (10, 3)\n",
      "/software/data/brainbox/metasearch/crawler/clean-csv/IXI-clean.csv (581, 2)\n",
      "/software/data/brainbox/metasearch/crawler/clean-csv/IXI-clean.csv (581, 3)\n",
      "/software/data/brainbox/metasearch/crawler/clean-csv/RocklandSample-clean.csv (532, 2)\n",
      "/software/data/brainbox/metasearch/crawler/clean-csv/RocklandSample-clean.csv (532, 3)\n"
     ]
    }
   ],
   "source": [
    "all_df = []\n",
    "for filename in csv_files:\n",
    "    new_df = process_csv(filename)\n",
    "    new_filename = filename #.replace('.csv', '-clean.csv')\n",
    "    #new_df[['url', 'id']].to_csv(new_filename,  header=False, index=False)\n",
    "    print(new_filename, new_df.shape)\n",
    "    all_df.append(new_df)\n",
    "all_df = pd.concat(all_df)\n",
    "all_df.shape\n",
    "all_df.to_csv('clean-csv/all.csv', columns=['url','id'], header=False, index=False)"
   ]
  },
  {
   "cell_type": "code",
   "execution_count": 6,
   "metadata": {
    "collapsed": false
   },
   "outputs": [
    {
     "data": {
      "text/html": [
       "<div>\n",
       "<table border=\"1\" class=\"dataframe\">\n",
       "  <thead>\n",
       "    <tr style=\"text-align: right;\">\n",
       "      <th></th>\n",
       "      <th>T1url</th>\n",
       "      <th>id</th>\n",
       "    </tr>\n",
       "  </thead>\n",
       "  <tbody>\n",
       "    <tr>\n",
       "      <th>0</th>\n",
       "      <td>https://s3.amazonaws.com/fcp-indi/data/Project...</td>\n",
       "      <td>50002</td>\n",
       "    </tr>\n",
       "    <tr>\n",
       "      <th>1</th>\n",
       "      <td>https://s3.amazonaws.com/fcp-indi/data/Project...</td>\n",
       "      <td>50003</td>\n",
       "    </tr>\n",
       "    <tr>\n",
       "      <th>2</th>\n",
       "      <td>https://s3.amazonaws.com/fcp-indi/data/Project...</td>\n",
       "      <td>50004</td>\n",
       "    </tr>\n",
       "    <tr>\n",
       "      <th>3</th>\n",
       "      <td>https://s3.amazonaws.com/fcp-indi/data/Project...</td>\n",
       "      <td>50005</td>\n",
       "    </tr>\n",
       "    <tr>\n",
       "      <th>4</th>\n",
       "      <td>https://s3.amazonaws.com/fcp-indi/data/Project...</td>\n",
       "      <td>50006</td>\n",
       "    </tr>\n",
       "  </tbody>\n",
       "</table>\n",
       "</div>"
      ],
      "text/plain": [
       "                                               T1url     id\n",
       "0  https://s3.amazonaws.com/fcp-indi/data/Project...  50002\n",
       "1  https://s3.amazonaws.com/fcp-indi/data/Project...  50003\n",
       "2  https://s3.amazonaws.com/fcp-indi/data/Project...  50004\n",
       "3  https://s3.amazonaws.com/fcp-indi/data/Project...  50005\n",
       "4  https://s3.amazonaws.com/fcp-indi/data/Project...  50006"
      ]
     },
     "execution_count": 6,
     "metadata": {},
     "output_type": "execute_result"
    }
   ],
   "source": [
    "csv = pd.read_csv('clean-csv/all.csv', names=['T1url', 'id'], dtype=str)\n",
    "csv.head()"
   ]
  },
  {
   "cell_type": "code",
   "execution_count": 7,
   "metadata": {
    "collapsed": false
   },
   "outputs": [],
   "source": [
    "patterns = ['data/Projects/{study}/RawData/{site}/{subj_id}/session_{session_id}/anat_{anat_id}/mprage.nii.gz',\n",
    "            'data/Projects/{study}/Outputs/freesurfer/5.1/{site}_{site_suffix}_{subj_id}/mri/T1.mgz',\n",
    "            'data/Projects/{study}/Outputs/freesurfer/5.1/{site}_{subj_id}/mri/T1.mgz',\n",
    "            'data/Projects/{study}/surfaces/freesurfer/5.3/{subj_id}/mri/T1.mgz',\n",
    "            'data/Projects/{study}/Outputs/IBA_TRT/freesurfer_gpu/{subj_id}-session_{session_id}/mri/T1.mgz',\n",
    "            'data/Projects/{study}/Outputs/IBA_TRT/freesurfer/{subj_id}-session_{session_id}/mri/T1.mgz',\n",
    "            'data/Projects/{study}/RawData/{site}/{subj_id}/session_{session_id}/anat_{anat_id}/anat.nii.gz',\n",
    "            'data/Projects/{study:w}/sub-{subj_id}/ses-{session_id}/anat/sub-{subj_id}_ses-{session_id}_T1w.nii.gz',\n",
    "            'data/Projects/{study:w}/RawData/{subj_id}/{session_id}/{deface_id}/{deface_id2}_defaced.nii.gz',\n",
    "            'data/Projects/INDI/{study}/RawData/sub-{subj_id}/anat/sub-{subj_id}_T1w.nii.gz',\n",
    "           ]\n"
   ]
  },
  {
   "cell_type": "code",
   "execution_count": 8,
   "metadata": {
    "collapsed": false
   },
   "outputs": [
    {
     "data": {
      "text/html": [
       "<div>\n",
       "<table border=\"1\" class=\"dataframe\">\n",
       "  <thead>\n",
       "    <tr style=\"text-align: right;\">\n",
       "      <th></th>\n",
       "      <th>T1url</th>\n",
       "      <th>id</th>\n",
       "      <th>project</th>\n",
       "    </tr>\n",
       "  </thead>\n",
       "  <tbody>\n",
       "    <tr>\n",
       "      <th>0</th>\n",
       "      <td>https://s3.amazonaws.com/fcp-indi/data/Project...</td>\n",
       "      <td>50002</td>\n",
       "      <td>abide_initiative</td>\n",
       "    </tr>\n",
       "    <tr>\n",
       "      <th>1</th>\n",
       "      <td>https://s3.amazonaws.com/fcp-indi/data/Project...</td>\n",
       "      <td>50003</td>\n",
       "      <td>abide_initiative</td>\n",
       "    </tr>\n",
       "    <tr>\n",
       "      <th>2</th>\n",
       "      <td>https://s3.amazonaws.com/fcp-indi/data/Project...</td>\n",
       "      <td>50004</td>\n",
       "      <td>abide_initiative</td>\n",
       "    </tr>\n",
       "    <tr>\n",
       "      <th>3</th>\n",
       "      <td>https://s3.amazonaws.com/fcp-indi/data/Project...</td>\n",
       "      <td>50005</td>\n",
       "      <td>abide_initiative</td>\n",
       "    </tr>\n",
       "    <tr>\n",
       "      <th>4</th>\n",
       "      <td>https://s3.amazonaws.com/fcp-indi/data/Project...</td>\n",
       "      <td>50006</td>\n",
       "      <td>abide_initiative</td>\n",
       "    </tr>\n",
       "  </tbody>\n",
       "</table>\n",
       "</div>"
      ],
      "text/plain": [
       "                                               T1url     id           project\n",
       "0  https://s3.amazonaws.com/fcp-indi/data/Project...  50002  abide_initiative\n",
       "1  https://s3.amazonaws.com/fcp-indi/data/Project...  50003  abide_initiative\n",
       "2  https://s3.amazonaws.com/fcp-indi/data/Project...  50004  abide_initiative\n",
       "3  https://s3.amazonaws.com/fcp-indi/data/Project...  50005  abide_initiative\n",
       "4  https://s3.amazonaws.com/fcp-indi/data/Project...  50006  abide_initiative"
      ]
     },
     "execution_count": 8,
     "metadata": {},
     "output_type": "execute_result"
    }
   ],
   "source": [
    "project_id = \"https://s3.amazonaws.com/fcp-indi/data/Projects/{project_id}/{frag}\" \n",
    "def get_project(string):\n",
    "    parsed = parse.parse(project_id, string)\n",
    "    if parsed:\n",
    "        return parsed.named.get('project_id').lower()\n",
    "    elif 'osf' in string and '5h7sv' in string:\n",
    "        return 'ixi'\n",
    "    else:\n",
    "        return pd.np.nan\n",
    "csv['project'] = csv.T1url.apply(get_project)\n",
    "csv.head()"
   ]
  },
  {
   "cell_type": "code",
   "execution_count": 9,
   "metadata": {
    "collapsed": false
   },
   "outputs": [],
   "source": [
    "url_patterns = [\"https://s3.amazonaws.com/fcp-indi/\" + pattern for pattern in patterns]"
   ]
  },
  {
   "cell_type": "code",
   "execution_count": 10,
   "metadata": {
    "collapsed": false
   },
   "outputs": [],
   "source": [
    "def get_session(url):\n",
    "    result = None\n",
    "    for pattern in url_patterns:\n",
    "        parsed = parse.parse(pattern, url)\n",
    "        if parsed:\n",
    "            result = parsed.named.get('session_id')\n",
    "    if result:\n",
    "        if result == '01':\n",
    "            return '1'\n",
    "        else:\n",
    "            return result\n",
    "    else:\n",
    "        return '1'"
   ]
  },
  {
   "cell_type": "code",
   "execution_count": 11,
   "metadata": {
    "collapsed": false
   },
   "outputs": [
    {
     "data": {
      "text/plain": [
       "array(['1', '2', '3', '10', '4', '5', '6', '7', '8', '9', 'clg_4',\n",
       "       'clg_4R', 'dsc_2', 'nfb_3', 'nfb_2', 'clg_2R', 'clg_2'], dtype=object)"
      ]
     },
     "execution_count": 11,
     "metadata": {},
     "output_type": "execute_result"
    }
   ],
   "source": [
    "sessions = csv.T1url.apply(get_session)\n",
    "sessions.unique()"
   ]
  },
  {
   "cell_type": "code",
   "execution_count": 12,
   "metadata": {
    "collapsed": false
   },
   "outputs": [],
   "source": [
    "csv['session_id'] = sessions"
   ]
  },
  {
   "cell_type": "code",
   "execution_count": 13,
   "metadata": {
    "collapsed": false
   },
   "outputs": [],
   "source": [
    "ids = csv.groupby(by=['project', 'id'])"
   ]
  },
  {
   "cell_type": "code",
   "execution_count": 14,
   "metadata": {
    "collapsed": false
   },
   "outputs": [],
   "source": [
    "count = ids.session_id.count()\n",
    "count_series = pd.Series()"
   ]
  },
  {
   "cell_type": "code",
   "execution_count": 15,
   "metadata": {
    "collapsed": false
   },
   "outputs": [],
   "source": [
    "for idx, row in csv.iterrows():\n",
    "     count_series.loc[idx] = count.get((row.project, row.id))"
   ]
  },
  {
   "cell_type": "code",
   "execution_count": 16,
   "metadata": {
    "collapsed": false
   },
   "outputs": [],
   "source": [
    "csv['session_count'] = count_series"
   ]
  },
  {
   "cell_type": "code",
   "execution_count": 17,
   "metadata": {
    "collapsed": false
   },
   "outputs": [],
   "source": [
    "csv.columns = ['t1_url', 'participant_id', 'project', 'session_id', 'session_count']"
   ]
  },
  {
   "cell_type": "code",
   "execution_count": 18,
   "metadata": {
    "collapsed": false
   },
   "outputs": [
    {
     "name": "stderr",
     "output_type": "stream",
     "text": [
      "/software/miniconda3/envs/dev3pype/lib/python3.5/site-packages/ipykernel/__main__.py:18: SettingWithCopyWarning: \n",
      "A value is trying to be set on a copy of a slice from a DataFrame.\n",
      "Try using .loc[row_indexer,col_indexer] = value instead\n",
      "\n",
      "See the caveats in the documentation: http://pandas.pydata.org/pandas-docs/stable/indexing.html#indexing-view-versus-copy\n",
      "/software/miniconda3/envs/dev3pype/lib/python3.5/site-packages/ipykernel/__main__.py:19: SettingWithCopyWarning: \n",
      "A value is trying to be set on a copy of a slice from a DataFrame.\n",
      "Try using .loc[row_indexer,col_indexer] = value instead\n",
      "\n",
      "See the caveats in the documentation: http://pandas.pydata.org/pandas-docs/stable/indexing.html#indexing-view-versus-copy\n"
     ]
    }
   ],
   "source": [
    "# Joining GSP w/pheno...\n",
    "def update_participant_id(x):\n",
    "    pid = None\n",
    "    if len(x) == 1:\n",
    "        pid = 'Sub000{}_Ses1'.format(x)\n",
    "    elif len(x) == 2:\n",
    "        pid = 'Sub00{}_Ses1'.format(x)\n",
    "    elif len(x) == 3:\n",
    "        pid = 'Sub0{}_Ses1'.format(x)\n",
    "    elif len(x) == 4:\n",
    "        pid = 'Sub{}_Ses1'.format(x)\n",
    "    else:\n",
    "        pid\n",
    "    return pid\n",
    "\n",
    "gsp = csv[csv.project == 'braingenomicssuperstructproject']\n",
    "# rename genomesuperstruct to be accronym\n",
    "gsp['project'] = 'gsp'\n",
    "gsp['participant_id'] = gsp.participant_id.apply(update_participant_id)\n",
    "\n",
    "csv.loc[gsp.index] = gsp"
   ]
  },
  {
   "cell_type": "code",
   "execution_count": 19,
   "metadata": {
    "collapsed": false
   },
   "outputs": [
    {
     "name": "stderr",
     "output_type": "stream",
     "text": [
      "/software/miniconda3/envs/dev3pype/lib/python3.5/site-packages/ipykernel/__main__.py:7: SettingWithCopyWarning: \n",
      "A value is trying to be set on a copy of a slice from a DataFrame.\n",
      "Try using .loc[row_indexer,col_indexer] = value instead\n",
      "\n",
      "See the caveats in the documentation: http://pandas.pydata.org/pandas-docs/stable/indexing.html#indexing-view-versus-copy\n"
     ]
    }
   ],
   "source": [
    "# Joining indi w/pheno...\n",
    "def update_participant_id(x):\n",
    "    return 'sub-{:07d}'.format(int(x))\n",
    "\n",
    "indi = csv[csv.project == 'indi']\n",
    "# rename genomesuperstruct to be accronym\n",
    "indi['participant_id'] = indi.participant_id.apply(update_participant_id)\n",
    "\n",
    "csv.loc[indi.index] = indi"
   ]
  },
  {
   "cell_type": "code",
   "execution_count": 20,
   "metadata": {
    "collapsed": false
   },
   "outputs": [
    {
     "name": "stderr",
     "output_type": "stream",
     "text": [
      "/software/miniconda3/envs/dev3pype/lib/python3.5/site-packages/ipykernel/__main__.py:7: SettingWithCopyWarning: \n",
      "A value is trying to be set on a copy of a slice from a DataFrame.\n",
      "Try using .loc[row_indexer,col_indexer] = value instead\n",
      "\n",
      "See the caveats in the documentation: http://pandas.pydata.org/pandas-docs/stable/indexing.html#indexing-view-versus-copy\n"
     ]
    }
   ],
   "source": [
    "# Joining ixi w/pheno...\n",
    "def update_participant_id(x):\n",
    "    pid = x.replace('IXI', '')\n",
    "    return str(int(pid))\n",
    "\n",
    "ixi = csv[csv.project == 'ixi']\n",
    "ixi['participant_id'] = ixi.participant_id.apply(update_participant_id)\n",
    "\n",
    "csv.loc[ixi.index] = ixi"
   ]
  },
  {
   "cell_type": "code",
   "execution_count": 21,
   "metadata": {
    "collapsed": true
   },
   "outputs": [],
   "source": [
    "csv.to_csv('clean-csv/all-session.csv', index=None)"
   ]
  },
  {
   "cell_type": "code",
   "execution_count": null,
   "metadata": {
    "collapsed": true
   },
   "outputs": [],
   "source": []
  }
 ],
 "metadata": {
  "anaconda-cloud": {},
  "kernelspec": {
   "display_name": "Python 3",
   "language": "python",
   "name": "python3"
  },
  "language_info": {
   "codemirror_mode": {
    "name": "ipython",
    "version": 3
   },
   "file_extension": ".py",
   "mimetype": "text/x-python",
   "name": "python",
   "nbconvert_exporter": "python",
   "pygments_lexer": "ipython3",
   "version": "3.5.2"
  }
 },
 "nbformat": 4,
 "nbformat_minor": 1
}
