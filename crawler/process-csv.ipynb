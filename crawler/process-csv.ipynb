{
 "cells": [
  {
   "cell_type": "code",
   "execution_count": 1,
   "metadata": {
    "collapsed": true
   },
   "outputs": [],
   "source": [
    "from glob import glob\n",
    "import os\n",
    "import pandas as pd\n",
    "from subprocess import Popen, PIPE, run\n",
    "\n",
    "import requests"
   ]
  },
  {
   "cell_type": "code",
   "execution_count": 2,
   "metadata": {
    "collapsed": false
   },
   "outputs": [
    {
     "name": "stdout",
     "output_type": "stream",
     "text": [
      "ABIDE_Initiative-clean.csv           fcp-indi-new\r\n",
      "ABIDE_Initiative.csv                 \u001b[0m\u001b[38;5;9mfcp-indi-new.gz\u001b[0m\r\n",
      "ACPI-clean.csv                       fcp-info.ipynb\r\n",
      "ACPI.csv                             HypnosisBarrios-clean.csv\r\n",
      "ADHD200-clean.csv                    HypnosisBarrios.csv\r\n",
      "ADHD200.csv                          \u001b[38;5;27mload\u001b[0m/\r\n",
      "aseg.mgz                             \u001b[38;5;27mpheno\u001b[0m/\r\n",
      "BrainGenomicsSuperstructProject.csv  process-clean-csv.ipynb\r\n",
      "CORR-clean.csv                       process-csv.ipynb\r\n",
      "CORR.csv                             RocklandSample-clean.csv\r\n",
      "\u001b[38;5;27mextract\u001b[0m/                             RocklandSample.csv\r\n",
      "fcp-indi                             \u001b[38;5;27mtransform\u001b[0m/\r\n"
     ]
    }
   ],
   "source": [
    "ls"
   ]
  },
  {
   "cell_type": "code",
   "execution_count": 8,
   "metadata": {
    "collapsed": false
   },
   "outputs": [
    {
     "data": {
      "text/plain": [
       "['ACPI.csv',\n",
       " 'ADHD200.csv',\n",
       " 'CORR.csv',\n",
       " 'HypnosisBarrios.csv',\n",
       " 'RocklandSample.csv']"
      ]
     },
     "execution_count": 8,
     "metadata": {},
     "output_type": "execute_result"
    }
   ],
   "source": [
    "csv_files = [val for val in sorted(glob('*.csv')) if not any([key in val for key in \n",
    "                                                              ['clean', 'Brain', 'ABIDE']])]\n",
    "csv_files"
   ]
  },
  {
   "cell_type": "code",
   "execution_count": 4,
   "metadata": {
    "collapsed": false
   },
   "outputs": [],
   "source": [
    "def process_csv(filename):\n",
    "    #filename = csv_files[0]\n",
    "    df = pd.read_csv(filename, header=None, names=['url', 'id'], dtype=str)\n",
    "    print(filename, df.shape)\n",
    "    info = []\n",
    "    for grp in df.groupby('id'):\n",
    "        T1 = [val for val in grp[1].url.values if 'T1.mgz' in val]\n",
    "        if T1:\n",
    "            for T1_val in T1:\n",
    "                annot = T1_val.replace('T1.mgz', 'aseg.mgz')\n",
    "                this_info = dict(url=T1_val, annot=annot, id=grp[0])\n",
    "                info.append(this_info)\n",
    "        else:\n",
    "            for val in grp[1].url.values:\n",
    "                this_info = dict(url=val, annot=pd.np.nan, id=grp[0])\n",
    "                info.append(this_info)\n",
    "    new_df = pd.DataFrame(info)\n",
    "    return new_df"
   ]
  },
  {
   "cell_type": "code",
   "execution_count": 9,
   "metadata": {
    "collapsed": false
   },
   "outputs": [
    {
     "name": "stdout",
     "output_type": "stream",
     "text": [
      "ACPI.csv (129, 2)\n",
      "ACPI-clean.csv (129, 3)\n",
      "ADHD200.csv (1927, 2)\n",
      "ADHD200-clean.csv (973, 3)\n",
      "CORR.csv (3203, 2)\n",
      "CORR-clean.csv (3153, 3)\n",
      "HypnosisBarrios.csv (10, 2)\n",
      "HypnosisBarrios-clean.csv (10, 3)\n",
      "RocklandSample.csv (532, 2)\n",
      "RocklandSample-clean.csv (532, 3)\n"
     ]
    },
    {
     "data": {
      "text/plain": [
       "(4797, 3)"
      ]
     },
     "execution_count": 9,
     "metadata": {},
     "output_type": "execute_result"
    }
   ],
   "source": [
    "all_df = []\n",
    "for filename in csv_files:\n",
    "    new_df = process_csv(filename)\n",
    "    new_filename = filename.replace('.csv', '-clean.csv')\n",
    "    new_df[['url', 'id']].to_csv(new_filename, header=False, index=False)\n",
    "    print(new_filename, new_df.shape)\n",
    "    all_df.append(new_df)\n",
    "all_df = pd.concat(all_df)\n",
    "all_df.shape"
   ]
  },
  {
   "cell_type": "code",
   "execution_count": null,
   "metadata": {
    "collapsed": true
   },
   "outputs": [],
   "source": []
  }
 ],
 "metadata": {
  "anaconda-cloud": {},
  "kernelspec": {
   "display_name": "Python [conda env:dev3pype]",
   "language": "python",
   "name": "conda-env-dev3pype-py"
  },
  "language_info": {
   "codemirror_mode": {
    "name": "ipython",
    "version": 3
   },
   "file_extension": ".py",
   "mimetype": "text/x-python",
   "name": "python",
   "nbconvert_exporter": "python",
   "pygments_lexer": "ipython3",
   "version": "3.5.2"
  }
 },
 "nbformat": 4,
 "nbformat_minor": 1
}
